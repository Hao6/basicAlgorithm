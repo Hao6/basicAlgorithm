{
 "cells": [
  {
   "cell_type": "markdown",
   "metadata": {},
   "source": [
    "# 基础的排序算法 "
   ]
  },
  {
   "cell_type": "code",
   "execution_count": 82,
   "metadata": {},
   "outputs": [],
   "source": [
    "import numpy as np\n",
    "import math"
   ]
  },
  {
   "cell_type": "markdown",
   "metadata": {},
   "source": [
    "### 生成测试数据 "
   ]
  },
  {
   "cell_type": "code",
   "execution_count": 59,
   "metadata": {},
   "outputs": [],
   "source": [
    "def test_datas(test_nums,seed):\n",
    "    \"\"\"\n",
    "    type test_nums:list[int]\n",
    "    type seed:int\n",
    "    rtype [list]\n",
    "    \"\"\"\n",
    "    np.random.seed(seed)\n",
    "    test_data = []\n",
    "    for item in test_nums:\n",
    "        test_data.append(np.random.randint(-62355,62356,size=item).tolist())\n",
    "    return test_data"
   ]
  },
  {
   "cell_type": "code",
   "execution_count": 60,
   "metadata": {},
   "outputs": [],
   "source": [
    "def test_datass(lower,higher,test_nums,seed):\n",
    "    \"\"\"\n",
    "    type test_nums:list[int]\n",
    "    type seed:int\n",
    "    rtype [list]\n",
    "    \"\"\"\n",
    "    np.random.seed(seed)\n",
    "    test_data = []\n",
    "    for item in test_nums:\n",
    "        test_data.append(np.random.randint(lower,higher,size=item).tolist())\n",
    "    return test_data"
   ]
  },
  {
   "cell_type": "markdown",
   "metadata": {},
   "source": [
    "### 排序函数的测试"
   ]
  },
  {
   "cell_type": "code",
   "execution_count": 32,
   "metadata": {},
   "outputs": [],
   "source": [
    "def sort_is_correct(sort_fun,test_data):\n",
    "    for item in test_data:\n",
    "        print \"排序结果是否正确:\",np.all(sort_fun(item) == np.sort(item))"
   ]
  },
  {
   "cell_type": "markdown",
   "metadata": {},
   "source": [
    "### 数组元素交换"
   ]
  },
  {
   "cell_type": "code",
   "execution_count": 5,
   "metadata": {},
   "outputs": [],
   "source": [
    "def swap(data,i,j):\n",
    "    data[i],data[j] = data[j],data[i]"
   ]
  },
  {
   "cell_type": "code",
   "execution_count": 6,
   "metadata": {},
   "outputs": [
    {
     "name": "stdout",
     "output_type": "stream",
     "text": [
      "[2, 1]\n"
     ]
    }
   ],
   "source": [
    "a=[1,2]\n",
    "swap(a,0,1)\n",
    "print a"
   ]
  },
  {
   "cell_type": "markdown",
   "metadata": {},
   "source": [
    "## 冒泡排序 "
   ]
  },
  {
   "cell_type": "code",
   "execution_count": 12,
   "metadata": {},
   "outputs": [],
   "source": [
    "def bubble_sort(unsorted_data):\n",
    "    \"\"\"\n",
    "    type s:list\n",
    "    rtype:list\n",
    "    \"\"\"\n",
    "    if unsorted_data == None:\n",
    "        return None\n",
    "    lens = len(unsorted_data)\n",
    "    for i in range(lens-1,0,-1):\n",
    "        for j in range(lens-1,lens-1-i,-1):\n",
    "            if unsorted_data[j] < unsorted_data[j-1]:\n",
    "                swap(unsorted_data,j,j-1)\n",
    "    return unsorted_data"
   ]
  },
  {
   "cell_type": "markdown",
   "metadata": {},
   "source": [
    "### 测试冒泡排序算法"
   ]
  },
  {
   "cell_type": "code",
   "execution_count": 33,
   "metadata": {},
   "outputs": [
    {
     "name": "stdout",
     "output_type": "stream",
     "text": [
      "排序结果是否正确: True\n",
      "排序结果是否正确: True\n",
      "排序结果是否正确: True\n",
      "排序结果是否正确: True\n",
      "排序结果是否正确: True\n"
     ]
    }
   ],
   "source": [
    "test_data = test_datas([0,1,2,100,150],seed = 42)\n",
    "sort_is_correct(bubble_sort,test_data)"
   ]
  },
  {
   "cell_type": "markdown",
   "metadata": {},
   "source": [
    "## 改进冒泡排序"
   ]
  },
  {
   "cell_type": "code",
   "execution_count": 14,
   "metadata": {},
   "outputs": [],
   "source": [
    "def bubble_sort_pro(unsorted_data):\n",
    "    \"\"\"\n",
    "    type s:list\n",
    "    rtype:list\n",
    "    \"\"\"\n",
    "    if unsorted_data == None:\n",
    "        return None\n",
    "    lens = len(unsorted_data)\n",
    "    \n",
    "    for i in range(lens-1,0,-1):\n",
    "        is_swap = False\n",
    "        for j in range(lens-1,lens-1-i,-1):\n",
    "            if unsorted_data[j] < unsorted_data[j-1]:\n",
    "                swap(unsorted_data,j,j-1)\n",
    "                is_swap = True\n",
    "        if is_swap == False:\n",
    "            break\n",
    "    return unsorted_data"
   ]
  },
  {
   "cell_type": "markdown",
   "metadata": {},
   "source": [
    "### 测试改进版本"
   ]
  },
  {
   "cell_type": "code",
   "execution_count": 34,
   "metadata": {},
   "outputs": [
    {
     "name": "stdout",
     "output_type": "stream",
     "text": [
      "排序结果是否正确: True\n",
      "排序结果是否正确: True\n",
      "排序结果是否正确: True\n",
      "排序结果是否正确: True\n",
      "排序结果是否正确: True\n",
      "排序结果是否正确: True\n"
     ]
    }
   ],
   "source": [
    "test_data = test_datas([0,1,2,100,150,1000],seed = 55)\n",
    "sort_is_correct(bubble_sort_pro,test_data)"
   ]
  },
  {
   "cell_type": "markdown",
   "metadata": {},
   "source": [
    "## 选择排序"
   ]
  },
  {
   "cell_type": "code",
   "execution_count": 42,
   "metadata": {},
   "outputs": [],
   "source": [
    "def select_sort(unsorted_data):\n",
    "    \"\"\"\n",
    "    type s:list\n",
    "    rtype:list\n",
    "    \"\"\"\n",
    "    if unsorted_data == None:\n",
    "        return None\n",
    "    lens = len(unsorted_data)\n",
    "    for i in range(0,lens-1,1):\n",
    "        temp_min = unsorted_data[i] \n",
    "        temp_index = i\n",
    "        for j in range(i,lens,1):\n",
    "            if temp_min > unsorted_data[j]:\n",
    "                temp_index = j\n",
    "                temp_min = unsorted_data[j]\n",
    "        swap(unsorted_data,temp_index,i)\n",
    "    return unsorted_data"
   ]
  },
  {
   "cell_type": "markdown",
   "metadata": {},
   "source": [
    "### 测试选择排序 "
   ]
  },
  {
   "cell_type": "code",
   "execution_count": 43,
   "metadata": {},
   "outputs": [
    {
     "name": "stdout",
     "output_type": "stream",
     "text": [
      "排序结果是否正确: True\n",
      "排序结果是否正确: True\n",
      "排序结果是否正确: True\n",
      "排序结果是否正确: True\n",
      "排序结果是否正确: True\n",
      "排序结果是否正确: True\n"
     ]
    }
   ],
   "source": [
    "test_data = test_datas([0,1,2,100,150,1000],seed = 900)\n",
    "sort_is_correct(select_sort,test_data)"
   ]
  },
  {
   "cell_type": "markdown",
   "metadata": {},
   "source": [
    "## 插入排序 "
   ]
  },
  {
   "cell_type": "code",
   "execution_count": 44,
   "metadata": {},
   "outputs": [],
   "source": [
    "def insert_sort(unsorted_data):\n",
    "    \"\"\"\n",
    "    type s:list\n",
    "    rtype:list\n",
    "    \"\"\"\n",
    "    if unsorted_data == None:\n",
    "        return None\n",
    "    lens = len(unsorted_data)\n",
    "    for i in range(0,lens-1,1):\n",
    "        for j in range(i+1,0,-1):\n",
    "            if unsorted_data[j] < unsorted_data[j-1]:\n",
    "                swap(unsorted_data,j,j-1)\n",
    "    return insert_sort"
   ]
  },
  {
   "cell_type": "markdown",
   "metadata": {},
   "source": [
    "### 测试插入排序 "
   ]
  },
  {
   "cell_type": "code",
   "execution_count": 45,
   "metadata": {},
   "outputs": [
    {
     "name": "stdout",
     "output_type": "stream",
     "text": [
      "排序结果是否正确: True\n",
      "排序结果是否正确: True\n",
      "排序结果是否正确: True\n",
      "排序结果是否正确: True\n",
      "排序结果是否正确: True\n",
      "排序结果是否正确: True\n"
     ]
    }
   ],
   "source": [
    "test_data = test_datas([0,1,2,100,150,1000],seed = 7800)\n",
    "sort_is_correct(select_sort,test_data)"
   ]
  },
  {
   "cell_type": "markdown",
   "metadata": {},
   "source": [
    "## 希尔排序 "
   ]
  },
  {
   "cell_type": "code",
   "execution_count": 56,
   "metadata": {},
   "outputs": [],
   "source": [
    "def shell_sort(unsorted_data):\n",
    "    \"\"\"\n",
    "    type s:list\n",
    "    rtype:list\n",
    "    \"\"\"\n",
    "    if unsorted_data == None:\n",
    "        return None\n",
    "    lens = len(unsorted_data)\n",
    "    d = lens / 2 # 增量\n",
    "    while d > 0:\n",
    "        for i in range(0,d,1):\n",
    "            for j in range(i,lens,d):\n",
    "                for z in range(j+d,i,-d):\n",
    "                    if z >= lens:\n",
    "                        break\n",
    "                    if unsorted_data[z] < unsorted_data[z-d]:\n",
    "                        swap(unsorted_data,z,z-d)\n",
    "        d = d/2\n",
    "    return unsorted_data"
   ]
  },
  {
   "cell_type": "markdown",
   "metadata": {},
   "source": [
    "### 测试希尔排序 "
   ]
  },
  {
   "cell_type": "code",
   "execution_count": 57,
   "metadata": {},
   "outputs": [
    {
     "name": "stdout",
     "output_type": "stream",
     "text": [
      "排序结果是否正确: True\n",
      "排序结果是否正确: True\n",
      "排序结果是否正确: True\n",
      "排序结果是否正确: True\n",
      "排序结果是否正确: True\n",
      "排序结果是否正确: True\n",
      "排序结果是否正确: True\n",
      "排序结果是否正确: True\n",
      "排序结果是否正确: True\n",
      "排序结果是否正确: True\n",
      "排序结果是否正确: True\n"
     ]
    }
   ],
   "source": [
    "test_data = test_datas([0,1,2,3,4,5,6,10,100,150,1000],seed = 388)\n",
    "sort_is_correct(shell_sort,test_data)"
   ]
  },
  {
   "cell_type": "markdown",
   "metadata": {},
   "source": [
    "## 计数排序\n",
    "- **需要提前确定待排序序列的范围**\n",
    "- 假定输入数据的范围是[0,2000)"
   ]
  },
  {
   "cell_type": "code",
   "execution_count": 93,
   "metadata": {},
   "outputs": [
    {
     "name": "stdout",
     "output_type": "stream",
     "text": [
      "\n"
     ]
    }
   ],
   "source": [
    "def count_sort(unsorted_data):\n",
    "    \"\"\"\n",
    "    type s:list\n",
    "    rtype:list\n",
    "    \"\"\"\n",
    "    if unsorted_data == None:\n",
    "        return None\n",
    "    if len(unsorted_data) == 0:\n",
    "        return unsorted_data\n",
    "    # 如果输入数据的范围不在自然数范围内，则需要映射到自然数的子集上\n",
    "    list_a = [0]*2000 \n",
    "    # step 1,计算每个元素出现的次数，下标对应元素，list_a直对应出现次数\n",
    "    max_item = -1\n",
    "    for item in unsorted_data:\n",
    "        list_a[item]+=1\n",
    "        if item > max_item:\n",
    "            max_item = item\n",
    "    # step 2,累加list_a，计算比不大于当前元素的元素个数\n",
    "    list_b = [0]*(max_item+1)\n",
    "    list_b[0] = list_a[0]\n",
    "    for i in range(1,len(list_b)):\n",
    "        list_b[i] = list_a[i] + list_b[i-1]\n",
    "    # step 3 从后向前遍历未排序数组，该数组值-1作为类和数组的下标，类和数组值作为该值在新的列表中的下标，类和数组对应下标减1\n",
    "    list_c = [0]*len(unsorted_data)\n",
    "    for i in range(len(unsorted_data)-1,-1,-1):\n",
    "        list_c[list_b[unsorted_data[i]]-1] = unsorted_data[i]\n",
    "        list_b[unsorted_data[i]] -= 1\n",
    "    return list_c"
   ]
  },
  {
   "cell_type": "markdown",
   "metadata": {},
   "source": [
    "### 测试计数排序 "
   ]
  },
  {
   "cell_type": "code",
   "execution_count": 94,
   "metadata": {},
   "outputs": [
    {
     "name": "stdout",
     "output_type": "stream",
     "text": [
      "排序结果是否正确: True\n",
      "排序结果是否正确: True\n",
      "排序结果是否正确: True\n",
      "排序结果是否正确: True\n",
      "排序结果是否正确: True\n",
      "排序结果是否正确: True\n",
      "排序结果是否正确: True\n",
      "排序结果是否正确: True\n",
      "排序结果是否正确: True\n"
     ]
    }
   ],
   "source": [
    "test_data = test_datass(lower=0,higher=20,test_nums=[4,1,2,3,0,23,34,333,34343],seed = 400)\n",
    "sort_is_correct(count_sort,test_data)"
   ]
  },
  {
   "cell_type": "markdown",
   "metadata": {},
   "source": [
    "## 桶排序 \n",
    "- **需要提前确定待排序数据的分布，最好是[0，1]上的均匀分布**\n",
    "- **输入数据的范围[0,1)**"
   ]
  },
  {
   "cell_type": "code",
   "execution_count": null,
   "metadata": {},
   "outputs": [],
   "source": [
    "def bucket_sort(unsorted_data):\n",
    "    \"\"\"\n",
    "    type s:list\n",
    "    rtype:list\n",
    "    \"\"\"\n",
    "    if unsorted_data == None:\n",
    "        return None\n",
    "    lens = unsorted_data\n",
    "    buckets = math.floor(math.sqrt(lens)) # 桶个数\n",
    "    \n",
    "    "
   ]
  },
  {
   "cell_type": "markdown",
   "metadata": {},
   "source": [
    "## 基数排序 "
   ]
  },
  {
   "cell_type": "code",
   "execution_count": null,
   "metadata": {},
   "outputs": [],
   "source": [
    "def radix_sort(unsorted_data):\n",
    "    "
   ]
  }
 ],
 "metadata": {
  "kernelspec": {
   "display_name": "Python 2",
   "language": "python",
   "name": "python2"
  },
  "language_info": {
   "codemirror_mode": {
    "name": "ipython",
    "version": 2
   },
   "file_extension": ".py",
   "mimetype": "text/x-python",
   "name": "python",
   "nbconvert_exporter": "python",
   "pygments_lexer": "ipython2",
   "version": "2.7.14"
  }
 },
 "nbformat": 4,
 "nbformat_minor": 2
}
