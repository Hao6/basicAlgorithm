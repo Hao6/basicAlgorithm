{
 "cells": [
  {
   "cell_type": "markdown",
   "metadata": {},
   "source": [
    "# 基础的排序算法 "
   ]
  },
  {
   "cell_type": "code",
   "execution_count": 1,
   "metadata": {},
   "outputs": [],
   "source": [
    "import numpy as np\n",
    "import math\n",
    "from __future__ import division"
   ]
  },
  {
   "cell_type": "markdown",
   "metadata": {},
   "source": [
    "### 生成测试数据 "
   ]
  },
  {
   "cell_type": "code",
   "execution_count": 2,
   "metadata": {},
   "outputs": [],
   "source": [
    "def test_datas(test_nums,seed):\n",
    "    \"\"\"\n",
    "    type test_nums:list[int]\n",
    "    type seed:int\n",
    "    rtype [list]\n",
    "    \"\"\"\n",
    "    np.random.seed(seed)\n",
    "    test_data = []\n",
    "    for item in test_nums:\n",
    "        test_data.append(np.random.randint(-62355,62356,size=item).tolist())\n",
    "    return test_data"
   ]
  },
  {
   "cell_type": "code",
   "execution_count": 3,
   "metadata": {},
   "outputs": [],
   "source": [
    "def test_datass(lower,higher,test_nums,seed):\n",
    "    \"\"\"\n",
    "    type test_nums:list[int]\n",
    "    type seed:int\n",
    "    rtype [list]\n",
    "    \"\"\"\n",
    "    np.random.seed(seed)\n",
    "    test_data = []\n",
    "    for item in test_nums:\n",
    "        test_data.append(np.random.randint(lower,higher,size=item).tolist())\n",
    "    return test_data"
   ]
  },
  {
   "cell_type": "code",
   "execution_count": 4,
   "metadata": {},
   "outputs": [
    {
     "data": {
      "text/plain": [
       "[0.8156638600015951,\n",
       " 0.3398751773833334,\n",
       " 0.36354038439806924,\n",
       " 0.24845124881013392,\n",
       " 0.9068521163742882]"
      ]
     },
     "execution_count": 4,
     "metadata": {},
     "output_type": "execute_result"
    }
   ],
   "source": [
    "np.random.random_sample((5,)).tolist()"
   ]
  },
  {
   "cell_type": "code",
   "execution_count": 5,
   "metadata": {},
   "outputs": [],
   "source": [
    "def decimal_test_datas(test_nums,seed):\n",
    "    \"\"\"\n",
    "    type test_nums:list[int]\n",
    "    type seed:int\n",
    "    rtype [[float]]\n",
    "    \"\"\"\n",
    "    np.random.seed(seed)\n",
    "    test_data = []\n",
    "    for item in test_nums:\n",
    "        test_data.append(np.random.random_sample(size=(item,)).tolist())\n",
    "    return test_data"
   ]
  },
  {
   "cell_type": "markdown",
   "metadata": {},
   "source": [
    "### 排序函数的测试"
   ]
  },
  {
   "cell_type": "code",
   "execution_count": 6,
   "metadata": {},
   "outputs": [],
   "source": [
    "def sort_is_correct(sort_fun,test_data):\n",
    "    for item in test_data:\n",
    "        sign = True\n",
    "        sorted_list = sort_fun(item)\n",
    "        for i in range(len(sorted_list)-1):\n",
    "            if sorted_list[i] > sorted_list[i+1]:\n",
    "                sign = False\n",
    "                break\n",
    "        print \"排序结果是否正确:\",sign"
   ]
  },
  {
   "cell_type": "markdown",
   "metadata": {},
   "source": [
    "### 数组元素交换"
   ]
  },
  {
   "cell_type": "code",
   "execution_count": 7,
   "metadata": {},
   "outputs": [],
   "source": [
    "def swap(data,i,j):\n",
    "    data[i],data[j] = data[j],data[i]"
   ]
  },
  {
   "cell_type": "code",
   "execution_count": 8,
   "metadata": {},
   "outputs": [
    {
     "name": "stdout",
     "output_type": "stream",
     "text": [
      "[2, 1]\n"
     ]
    }
   ],
   "source": [
    "a=[1,2]\n",
    "swap(a,0,1)\n",
    "print a"
   ]
  },
  {
   "cell_type": "markdown",
   "metadata": {},
   "source": [
    "## 冒泡排序 "
   ]
  },
  {
   "cell_type": "code",
   "execution_count": 21,
   "metadata": {},
   "outputs": [],
   "source": [
    "def bubble_sort(unsorted_data):\n",
    "    \"\"\"\n",
    "    type s:list\n",
    "    rtype:list\n",
    "    \"\"\"\n",
    "    if unsorted_data == None:\n",
    "        return None\n",
    "    lens = len(unsorted_data)\n",
    "    for i in range(lens-1,0,-1):\n",
    "        for j in range(lens-1,lens-1-i,-1):\n",
    "            if unsorted_data[j] < unsorted_data[j-1]:\n",
    "                swap(unsorted_data,j,j-1)\n",
    "    return unsorted_data"
   ]
  },
  {
   "cell_type": "markdown",
   "metadata": {},
   "source": [
    "### 测试冒泡排序算法"
   ]
  },
  {
   "cell_type": "code",
   "execution_count": 31,
   "metadata": {},
   "outputs": [
    {
     "name": "stdout",
     "output_type": "stream",
     "text": [
      "排序结果是否正确: True\n",
      "排序结果是否正确: True\n",
      "排序结果是否正确: True\n",
      "排序结果是否正确: True\n",
      "排序结果是否正确: True\n"
     ]
    }
   ],
   "source": [
    "test_data = test_datas([0,1,2,100,150],seed = 42)\n",
    "sort_is_correct(bubble_sort,test_data)"
   ]
  },
  {
   "cell_type": "markdown",
   "metadata": {},
   "source": [
    "## 改进冒泡排序"
   ]
  },
  {
   "cell_type": "code",
   "execution_count": 32,
   "metadata": {},
   "outputs": [],
   "source": [
    "def bubble_sort_pro(unsorted_data):\n",
    "    \"\"\"\n",
    "    type s:list\n",
    "    rtype:list\n",
    "    \"\"\"\n",
    "    if unsorted_data == None:\n",
    "        return None\n",
    "    lens = len(unsorted_data)\n",
    "    \n",
    "    for i in range(lens-1,0,-1):\n",
    "        is_swap = False\n",
    "        for j in range(lens-1,lens-1-i,-1):\n",
    "            if unsorted_data[j] < unsorted_data[j-1]:\n",
    "                swap(unsorted_data,j,j-1)\n",
    "                is_swap = True\n",
    "        if is_swap == False:\n",
    "            break\n",
    "    return unsorted_data"
   ]
  },
  {
   "cell_type": "markdown",
   "metadata": {},
   "source": [
    "### 测试改进版本"
   ]
  },
  {
   "cell_type": "code",
   "execution_count": 33,
   "metadata": {},
   "outputs": [
    {
     "name": "stdout",
     "output_type": "stream",
     "text": [
      "排序结果是否正确: True\n",
      "排序结果是否正确: True\n",
      "排序结果是否正确: True\n",
      "排序结果是否正确: True\n",
      "排序结果是否正确: True\n",
      "排序结果是否正确: True\n"
     ]
    }
   ],
   "source": [
    "test_data = test_datas([0,1,2,100,150,1000],seed = 55)\n",
    "sort_is_correct(bubble_sort_pro,test_data)"
   ]
  },
  {
   "cell_type": "markdown",
   "metadata": {},
   "source": [
    "## 选择排序"
   ]
  },
  {
   "cell_type": "code",
   "execution_count": 34,
   "metadata": {},
   "outputs": [],
   "source": [
    "def select_sort(unsorted_data):\n",
    "    \"\"\"\n",
    "    type s:list\n",
    "    rtype:list\n",
    "    \"\"\"\n",
    "    if unsorted_data == None:\n",
    "        return None\n",
    "    lens = len(unsorted_data)\n",
    "    for i in range(0,lens-1,1):\n",
    "        temp_min = unsorted_data[i] \n",
    "        temp_index = i\n",
    "        for j in range(i,lens,1):\n",
    "            if temp_min > unsorted_data[j]:\n",
    "                temp_index = j\n",
    "                temp_min = unsorted_data[j]\n",
    "        swap(unsorted_data,temp_index,i)\n",
    "    return unsorted_data"
   ]
  },
  {
   "cell_type": "markdown",
   "metadata": {},
   "source": [
    "### 测试选择排序 "
   ]
  },
  {
   "cell_type": "code",
   "execution_count": 35,
   "metadata": {},
   "outputs": [
    {
     "name": "stdout",
     "output_type": "stream",
     "text": [
      "排序结果是否正确: True\n",
      "排序结果是否正确: True\n",
      "排序结果是否正确: True\n",
      "排序结果是否正确: True\n",
      "排序结果是否正确: True\n",
      "排序结果是否正确: True\n"
     ]
    }
   ],
   "source": [
    "test_data = test_datas([0,1,2,100,150,1000],seed = 900)\n",
    "sort_is_correct(select_sort,test_data)"
   ]
  },
  {
   "cell_type": "markdown",
   "metadata": {},
   "source": [
    "## 插入排序 "
   ]
  },
  {
   "cell_type": "code",
   "execution_count": 36,
   "metadata": {},
   "outputs": [],
   "source": [
    "def insert_sort(unsorted_data):\n",
    "    \"\"\"\n",
    "    type s:list\n",
    "    rtype:list\n",
    "    \"\"\"\n",
    "    if unsorted_data == None:\n",
    "        return None\n",
    "    lens = len(unsorted_data)\n",
    "    for i in range(0,lens-1,1):\n",
    "        for j in range(i+1,0,-1):\n",
    "            if unsorted_data[j] < unsorted_data[j-1]:\n",
    "                swap(unsorted_data,j,j-1)\n",
    "    return insert_sort"
   ]
  },
  {
   "cell_type": "markdown",
   "metadata": {},
   "source": [
    "### 测试插入排序 "
   ]
  },
  {
   "cell_type": "code",
   "execution_count": 37,
   "metadata": {},
   "outputs": [
    {
     "name": "stdout",
     "output_type": "stream",
     "text": [
      "排序结果是否正确: True\n",
      "排序结果是否正确: True\n",
      "排序结果是否正确: True\n",
      "排序结果是否正确: True\n",
      "排序结果是否正确: True\n",
      "排序结果是否正确: True\n"
     ]
    }
   ],
   "source": [
    "test_data = test_datas([0,1,2,100,150,1000],seed = 7800)\n",
    "sort_is_correct(select_sort,test_data)"
   ]
  },
  {
   "cell_type": "markdown",
   "metadata": {},
   "source": [
    "## 希尔排序 "
   ]
  },
  {
   "cell_type": "code",
   "execution_count": 40,
   "metadata": {},
   "outputs": [],
   "source": [
    "def shell_sort(unsorted_data):\n",
    "    \"\"\"\n",
    "    type s:list\n",
    "    rtype:list\n",
    "    \"\"\"\n",
    "    if unsorted_data == None:\n",
    "        return None\n",
    "    lens = len(unsorted_data)\n",
    "    d = lens // 2 # 增量\n",
    "    while d > 0:\n",
    "        for i in range(0,d,1):\n",
    "            for j in range(i,lens,d):\n",
    "                for z in range(j+d,i,-d):\n",
    "                    if z >= lens:\n",
    "                        break\n",
    "                    if unsorted_data[z] < unsorted_data[z-d]:\n",
    "                        swap(unsorted_data,z,z-d)\n",
    "        d = d//2\n",
    "    return unsorted_data"
   ]
  },
  {
   "cell_type": "markdown",
   "metadata": {},
   "source": [
    "### 测试希尔排序 "
   ]
  },
  {
   "cell_type": "code",
   "execution_count": 41,
   "metadata": {},
   "outputs": [
    {
     "name": "stdout",
     "output_type": "stream",
     "text": [
      "排序结果是否正确: True\n",
      "排序结果是否正确: True\n",
      "排序结果是否正确: True\n",
      "排序结果是否正确: True\n",
      "排序结果是否正确: True\n",
      "排序结果是否正确: True\n",
      "排序结果是否正确: True\n",
      "排序结果是否正确: True\n",
      "排序结果是否正确: True\n",
      "排序结果是否正确: True\n",
      "排序结果是否正确: True\n"
     ]
    }
   ],
   "source": [
    "test_data = test_datas([0,1,2,3,4,5,6,10,100,150,1000],seed = 388)\n",
    "sort_is_correct(shell_sort,test_data)"
   ]
  },
  {
   "cell_type": "markdown",
   "metadata": {},
   "source": [
    "## 计数排序\n",
    "- **需要提前确定待排序序列的范围**\n",
    "- 假定输入数据的范围是[0,2000)"
   ]
  },
  {
   "cell_type": "code",
   "execution_count": 42,
   "metadata": {},
   "outputs": [],
   "source": [
    "def count_sort(unsorted_data):\n",
    "    \"\"\"\n",
    "    type s:list\n",
    "    rtype:list\n",
    "    \"\"\"\n",
    "    if unsorted_data == None:\n",
    "        return None\n",
    "    if len(unsorted_data) == 0:\n",
    "        return unsorted_data\n",
    "    # 如果输入数据的范围不在自然数范围内，则需要映射到自然数的子集上\n",
    "    list_a = [0]*2000 \n",
    "    # step 1,计算每个元素出现的次数，下标对应元素，list_a直对应出现次数\n",
    "    max_item = -1\n",
    "    for item in unsorted_data:\n",
    "        list_a[item]+=1\n",
    "        if item > max_item:\n",
    "            max_item = item\n",
    "    # step 2,累加list_a，计算比不大于当前元素的元素个数\n",
    "    list_b = [0]*(max_item+1)\n",
    "    list_b[0] = list_a[0]\n",
    "    for i in range(1,len(list_b)):\n",
    "        list_b[i] = list_a[i] + list_b[i-1]\n",
    "    # step 3 从后向前遍历未排序数组，该数组值-1作为类和数组的下标，类和数组值作为该值在新的列表中的下标，类和数组对应下标减1\n",
    "    list_c = [0]*len(unsorted_data)\n",
    "    for i in range(len(unsorted_data)-1,-1,-1):\n",
    "        list_c[list_b[unsorted_data[i]]-1] = unsorted_data[i]\n",
    "        list_b[unsorted_data[i]] -= 1\n",
    "    return list_c"
   ]
  },
  {
   "cell_type": "markdown",
   "metadata": {},
   "source": [
    "### 测试计数排序 "
   ]
  },
  {
   "cell_type": "code",
   "execution_count": 43,
   "metadata": {},
   "outputs": [
    {
     "name": "stdout",
     "output_type": "stream",
     "text": [
      "排序结果是否正确: True\n",
      "排序结果是否正确: True\n",
      "排序结果是否正确: True\n",
      "排序结果是否正确: True\n",
      "排序结果是否正确: True\n",
      "排序结果是否正确: True\n",
      "排序结果是否正确: True\n",
      "排序结果是否正确: True\n",
      "排序结果是否正确: True\n"
     ]
    }
   ],
   "source": [
    "test_data = test_datass(lower=0,higher=20,test_nums=[4,1,2,3,0,23,34,333,34343],seed = 400)\n",
    "sort_is_correct(count_sort,test_data)"
   ]
  },
  {
   "cell_type": "markdown",
   "metadata": {},
   "source": [
    "## 桶排序 \n",
    "- **需要提前确定待排序数据的分布，最好是[0，1]上的均匀分布**\n",
    "- **输入数据的范围[0,1)**"
   ]
  },
  {
   "cell_type": "code",
   "execution_count": 12,
   "metadata": {},
   "outputs": [
    {
     "data": {
      "text/plain": [
       "[[5, 100], [5, 100], [5, 100], [5, 100], [5, 100]]"
      ]
     },
     "execution_count": 12,
     "metadata": {},
     "output_type": "execute_result"
    }
   ],
   "source": [
    "a= [[]]*5\n",
    "a[0].append(5)\n",
    "a[1].append(100)\n",
    "a"
   ]
  },
  {
   "cell_type": "code",
   "execution_count": 17,
   "metadata": {},
   "outputs": [],
   "source": [
    "def bucket_sort(unsorted_data):\n",
    "    \"\"\"\n",
    "    type s:list\n",
    "    rtype:list\n",
    "    \"\"\"\n",
    "    if unsorted_data == None:\n",
    "        return None\n",
    "    lens = len(unsorted_data)\n",
    "    buckets_num = int(math.floor(math.sqrt(lens))) # 桶个数\n",
    "    buckets = [[] for i in range(buckets_num)]\n",
    "    for item in unsorted_data:\n",
    "#         print buckets\n",
    "        for i in range(buckets_num):\n",
    "            if item < ((i+1) / buckets_num) :\n",
    "#                 print item,i\n",
    "                buckets[i].append(item)\n",
    "                break\n",
    "#         print buckets\n",
    "    sorted_buckets = [it  for element in buckets if element!=None for it in sorted(element)]\n",
    "    return sorted_buckets"
   ]
  },
  {
   "cell_type": "markdown",
   "metadata": {},
   "source": [
    "###  测试桶排序"
   ]
  },
  {
   "cell_type": "code",
   "execution_count": 18,
   "metadata": {},
   "outputs": [
    {
     "name": "stdout",
     "output_type": "stream",
     "text": [
      "排序结果是否正确: True\n",
      "排序结果是否正确: True\n",
      "排序结果是否正确: True\n",
      "排序结果是否正确: True\n",
      "排序结果是否正确: True\n",
      "排序结果是否正确: True\n",
      "排序结果是否正确: True\n",
      "排序结果是否正确: True\n",
      "排序结果是否正确: True\n"
     ]
    }
   ],
   "source": [
    "test_data = decimal_test_datas(test_nums=[4,1,2,3,0,23,34,333,34343],seed = 400)\n",
    "sort_is_correct(bucket_sort,test_data)"
   ]
  },
  {
   "cell_type": "markdown",
   "metadata": {},
   "source": [
    "## 基数排序 \n",
    "- 为了表达算法思想，假设输入为10进制的自然数集合的子集"
   ]
  },
  {
   "cell_type": "code",
   "execution_count": 24,
   "metadata": {},
   "outputs": [
    {
     "name": "stdout",
     "output_type": "stream",
     "text": [
      "he\n"
     ]
    }
   ],
   "source": [
    "for i in range(1):\n",
    "    print 'he'"
   ]
  },
  {
   "cell_type": "markdown",
   "metadata": {},
   "source": [
    "### 得到十进制自然数的指定位数字\n",
    "- 个位记为第0位，后面以此类推 "
   ]
  },
  {
   "cell_type": "code",
   "execution_count": 27,
   "metadata": {},
   "outputs": [],
   "source": [
    "def get_i_index(num, index):\n",
    "    for i in range(index):\n",
    "        num //= 10\n",
    "    return num % 10"
   ]
  },
  {
   "cell_type": "code",
   "execution_count": 32,
   "metadata": {},
   "outputs": [
    {
     "name": "stdout",
     "output_type": "stream",
     "text": [
      "0\n",
      "1\n",
      "0\n",
      "0\n",
      "0\n",
      "0\n",
      "0\n",
      "0\n",
      "0\n",
      "0\n"
     ]
    }
   ],
   "source": [
    "for i in range(10):\n",
    "    print get_i_index(10,i)"
   ]
  },
  {
   "cell_type": "code",
   "execution_count": 46,
   "metadata": {},
   "outputs": [],
   "source": [
    "def radix_sort(unsorted_data):\n",
    "    \"\"\"\n",
    "    type s:list\n",
    "    rtype:list\n",
    "    \"\"\"\n",
    "    if unsorted_data == None or len(unsorted_data) == 0:\n",
    "        return unsorted_data\n",
    "    # step1 获取最大值的位数 \n",
    "    temp_max = unsorted_data[0] # 最大值\n",
    "    for i in range(1,len(unsorted_data)):\n",
    "        if unsorted_data[i]>temp_max:\n",
    "            temp_max = unsorted_data[i]\n",
    "    max_bits = 0 # 最大值对应的位长度\n",
    "    while temp_max != 0:\n",
    "        temp_max //= 10\n",
    "        max_bits += 1\n",
    "    # step2 max_bits 次桶排序\n",
    "    for i in range(max_bits):\n",
    "        buckets = [[] for j in range(10)]\n",
    "        for item in unsorted_data:\n",
    "            index = get_i_index(item,i)\n",
    "            buckets[index].append(item)\n",
    "        unsorted_data = [it  for element in buckets if element!=None for it in element]\n",
    "    return unsorted_data"
   ]
  },
  {
   "cell_type": "markdown",
   "metadata": {},
   "source": [
    "### 测试基数排序 "
   ]
  },
  {
   "cell_type": "code",
   "execution_count": 49,
   "metadata": {},
   "outputs": [
    {
     "name": "stdout",
     "output_type": "stream",
     "text": [
      "排序结果是否正确: True\n",
      "排序结果是否正确: True\n",
      "排序结果是否正确: True\n",
      "排序结果是否正确: True\n",
      "排序结果是否正确: True\n",
      "排序结果是否正确: True\n",
      "排序结果是否正确: True\n",
      "排序结果是否正确: True\n",
      "排序结果是否正确: True\n"
     ]
    }
   ],
   "source": [
    "test_data = test_datass(lower=0,higher=2000000,test_nums=[4,1,2,3,0,23,34,338793,34343],seed = 542)\n",
    "sort_is_correct(radix_sort,test_data)"
   ]
  },
  {
   "cell_type": "code",
   "execution_count": null,
   "metadata": {},
   "outputs": [],
   "source": []
  }
 ],
 "metadata": {
  "kernelspec": {
   "display_name": "Python 2",
   "language": "python",
   "name": "python2"
  },
  "language_info": {
   "codemirror_mode": {
    "name": "ipython",
    "version": 2
   },
   "file_extension": ".py",
   "mimetype": "text/x-python",
   "name": "python",
   "nbconvert_exporter": "python",
   "pygments_lexer": "ipython2",
   "version": "2.7.14"
  }
 },
 "nbformat": 4,
 "nbformat_minor": 2
}
