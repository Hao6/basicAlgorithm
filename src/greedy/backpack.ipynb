{
 "cells": [
  {
   "cell_type": "markdown",
   "metadata": {},
   "source": [
    "## 贪心算法\n",
    "- 贪心算法（又称贪婪算法）是指，在对问题求解时，总是做出在当前看来是最好的选择。也就是说，不从整体最优上加以考虑，每一步都是着眼于当前情况下的最优解，但最终的全局最优解是通过局部最优解迭代得到的。\n",
    "- 贪心算法能否得到全局最优解的关键是关贪心策略(度量标准)的选择，使用的贪心策略必须具备无后效性，即某个状态以前的过程不会影响以后的状态，只与当前状态有关。"
   ]
  },
  {
   "cell_type": "markdown",
   "metadata": {},
   "source": [
    "## 背包问题\n",
    "- 问题描述如下，有一个空间容量为V的背包，有一些可以装进背包的物品，每个物品都有相应的价值w[i]与占据的空间v[i]，这些物品都可以被任意分割为几部分，问该背包所能装载物品的最大价值是多少？\n",
    "- 使用贪心解法，其中最为关键的度量标准是 **单位体积的物品价值**，即尽可能多的优先选择 **单位体积的物品价值** 更高的物品放进背包"
   ]
  },
  {
   "cell_type": "code",
   "execution_count": 1,
   "metadata": {},
   "outputs": [],
   "source": [
    "from __future__ import division"
   ]
  },
  {
   "cell_type": "code",
   "execution_count": 2,
   "metadata": {},
   "outputs": [],
   "source": [
    "def backpack(V, w, v):\n",
    "    \"\"\"\n",
    "    type V:float\n",
    "    type w:[int]\n",
    "    type v:[int]\n",
    "    rtype :float\n",
    "    \"\"\"\n",
    "    \n",
    "    # step 1, 将物品价值-体积组合起来，方便排序\n",
    "    w_v = zip(w, v)\n",
    "    \n",
    "    # step 2, 按照每件物品的 单位体积的价值 对其进行降序排序\n",
    "    w_v.sort(key = lambda item: item[0]/item[1] ,reverse = True)\n",
    "    \n",
    "    # step 3, 按照度量标准选择物品\n",
    "    W = 0 # 空背包的价值\n",
    "    for i in range(len(w_v)):\n",
    "        if V == 0:         # 背包没有空间\n",
    "            break\n",
    "        if w_v[i][1] < V:  # 背包剩余空间能完全装下当前的物品\n",
    "            W += w_v[i][0]\n",
    "            V -= w_v[i][1]\n",
    "        else:           # 背包剩余空间不能完全装下当前的物品\n",
    "            W += w_v[i][0]*(V/w_v[i][1]) # 按照比例加入背包\n",
    "            break\n",
    "    return W"
   ]
  },
  {
   "cell_type": "markdown",
   "metadata": {},
   "source": [
    "### 测试背包问题 "
   ]
  },
  {
   "cell_type": "code",
   "execution_count": 3,
   "metadata": {},
   "outputs": [
    {
     "name": "stdout",
     "output_type": "stream",
     "text": [
      "16.6666666667\n"
     ]
    }
   ],
   "source": [
    "w = [20,30,10]\n",
    "v = [60,120,50]\n",
    "V = 50\n",
    "print backpack(V,w,v)"
   ]
  },
  {
   "cell_type": "code",
   "execution_count": null,
   "metadata": {},
   "outputs": [],
   "source": []
  }
 ],
 "metadata": {
  "kernelspec": {
   "display_name": "Python 2",
   "language": "python",
   "name": "python2"
  },
  "language_info": {
   "codemirror_mode": {
    "name": "ipython",
    "version": 2
   },
   "file_extension": ".py",
   "mimetype": "text/x-python",
   "name": "python",
   "nbconvert_exporter": "python",
   "pygments_lexer": "ipython2",
   "version": "2.7.15"
  }
 },
 "nbformat": 4,
 "nbformat_minor": 2
}
