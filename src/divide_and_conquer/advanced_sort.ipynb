{
 "cells": [
  {
   "cell_type": "code",
   "execution_count": 1,
   "metadata": {},
   "outputs": [],
   "source": [
    "import numpy as np"
   ]
  },
  {
   "cell_type": "markdown",
   "metadata": {},
   "source": [
    "# 高级排序技术\n",
    "- 快速排序\n",
    "- 归并排序\n",
    "- 堆排序"
   ]
  },
  {
   "cell_type": "markdown",
   "metadata": {},
   "source": [
    "## 交换函数 "
   ]
  },
  {
   "cell_type": "code",
   "execution_count": null,
   "metadata": {},
   "outputs": [],
   "source": [
    "def swap(data,i,j):\n",
    "    data[i],data[j] = data[j],data[i]"
   ]
  },
  {
   "cell_type": "markdown",
   "metadata": {},
   "source": [
    "## 排序函数的测试"
   ]
  },
  {
   "cell_type": "code",
   "execution_count": 3,
   "metadata": {},
   "outputs": [],
   "source": [
    "def sort_is_correct(sort_fun,test_data):\n",
    "    for item in test_data:\n",
    "        sign = True\n",
    "        sorted_list = sort_fun(item)\n",
    "        for i in range(len(sorted_list)-1):\n",
    "            if sorted_list[i] > sorted_list[i+1]:\n",
    "                sign = False\n",
    "                break\n",
    "        print \"排序结果是否正确:\",sign"
   ]
  },
  {
   "cell_type": "markdown",
   "metadata": {},
   "source": [
    "## 生成无序测试数据"
   ]
  },
  {
   "cell_type": "code",
   "execution_count": 4,
   "metadata": {},
   "outputs": [],
   "source": [
    "def get_unsorted_data(lower,higher,test_nums,seed):\n",
    "    \"\"\"\n",
    "    type test_nums:list[int]\n",
    "    type seed:int\n",
    "    rtype [list]\n",
    "    \"\"\"\n",
    "    np.random.seed(seed)\n",
    "    unsorted_data = []\n",
    "    for item in test_nums:\n",
    "        unsorted_data.append(np.random.randint(lower,higher,size=item).tolist())\n",
    "    return unsorted_data"
   ]
  },
  {
   "cell_type": "markdown",
   "metadata": {},
   "source": [
    "## 快速排序 "
   ]
  },
  {
   "cell_type": "code",
   "execution_count": 5,
   "metadata": {},
   "outputs": [],
   "source": [
    "def q_sort(unsorted_data,lower,higher):\n",
    "    \"\"\"\n",
    "    type unsorted_data:list\n",
    "    type lower:int\n",
    "    type higher:int\n",
    "    \"\"\"\n",
    "    if lower >= higher:\n",
    "        return\n",
    "    else:\n",
    "        cur_index = np.random.randint(lower,higher+1)\n",
    "        swap(unsorted_data,lower,cur_index)\n",
    "        \n",
    "        i , j = lower , higher\n",
    "        while i <= j:\n",
    "            while j >= lower:\n",
    "                if unsorted_data[j] > unsorted_data[lower]:\n",
    "                    j -= 1\n",
    "                else:\n",
    "                    break\n",
    "            while i <= higher:\n",
    "                if unsorted_data[i] <= unsorted_data[lower]:\n",
    "                    i += 1\n",
    "                else:\n",
    "                    break\n",
    "            if i < j:\n",
    "                swap(unsorted_data,i,j)\n",
    "                i += 1\n",
    "                j -= 1\n",
    "        swap(unsorted_data,j,lower)\n",
    "        q_sort(unsorted_data,lower,j-1)\n",
    "        q_sort(unsorted_data,j+1,higher)"
   ]
  },
  {
   "cell_type": "code",
   "execution_count": 9,
   "metadata": {},
   "outputs": [],
   "source": [
    "def quick_sort(unsorted_data):\n",
    "    \"\"\"\n",
    "    type s:list\n",
    "    rtype:list\n",
    "    \"\"\"\n",
    "    if unsorted_data == None:\n",
    "        return None\n",
    "    lens = len(unsorted_data)\n",
    "    if lens == 0 or lens == 1:\n",
    "        return unsorted_data\n",
    "    else:\n",
    "        q_sort(unsorted_data,0,lens-1)\n",
    "        return unsorted_data"
   ]
  },
  {
   "cell_type": "markdown",
   "metadata": {},
   "source": [
    "## 快速排序的测试 "
   ]
  },
  {
   "cell_type": "code",
   "execution_count": 10,
   "metadata": {},
   "outputs": [
    {
     "name": "stdout",
     "output_type": "stream",
     "text": [
      "排序结果是否正确: True\n",
      "排序结果是否正确: True\n",
      "排序结果是否正确: True\n",
      "排序结果是否正确: True\n",
      "排序结果是否正确: True\n",
      "排序结果是否正确: True\n",
      "排序结果是否正确: True\n",
      "排序结果是否正确: True\n"
     ]
    }
   ],
   "source": [
    "test_data = get_unsorted_data(-65535,65536,[0,1,2,100,150,4343,23232,894743],seed = 489)\n",
    "sort_is_correct(quick_sort,test_data)"
   ]
  },
  {
   "cell_type": "markdown",
   "metadata": {},
   "source": [
    "## 归并排序 "
   ]
  },
  {
   "cell_type": "code",
   "execution_count": 11,
   "metadata": {},
   "outputs": [],
   "source": [
    "def merge(unsorted_data,lower,middle,higher):\n",
    "    \"\"\"\n",
    "    type unsorted_data:list\n",
    "    type lower:int\n",
    "    type higher:int\n",
    "    type middle:int\n",
    "    \"\"\"\n",
    "    temp_list = []*(higher-lower+1)\n",
    "    i , j = lower , middle+1\n",
    "    while i <= middle and j <= higher:\n",
    "        if unsorted_data[i] < unsorted_data[j]:\n",
    "            temp_list.append(unsorted_data[i])\n",
    "            i +=1\n",
    "        else:\n",
    "            temp_list.append(unsorted_data[j])\n",
    "            j +=1\n",
    "    if i <= middle:\n",
    "        for ii in range(i,middle+1,1):\n",
    "            temp_list.append(unsorted_data[ii])\n",
    "    elif j <= higher:\n",
    "        for jj in  range(j,higher+1,1):\n",
    "            temp_list.append(unsorted_data[jj])\n",
    "    for item in temp_list:\n",
    "        unsorted_data[lower] = item\n",
    "        lower += 1        "
   ]
  },
  {
   "cell_type": "code",
   "execution_count": 15,
   "metadata": {},
   "outputs": [],
   "source": [
    "def m_sort(unsorted_data,lower,higher):\n",
    "    \"\"\"\n",
    "    type unsorted_data:list\n",
    "    type lower:int\n",
    "    type higher:int\n",
    "    \"\"\"\n",
    "    if lower >= higher:\n",
    "        return\n",
    "    else:\n",
    "        middle = lower + (higher-lower)/2\n",
    "        m_sort(unsorted_data,lower,middle)\n",
    "        m_sort(unsorted_data,middle+1,higher)\n",
    "        merge(unsorted_data,lower,middle,higher)"
   ]
  },
  {
   "cell_type": "code",
   "execution_count": 13,
   "metadata": {},
   "outputs": [],
   "source": [
    "def merge_sort(unsorted_data):\n",
    "    \"\"\"\n",
    "    type s:list\n",
    "    rtype:list\n",
    "    \"\"\"\n",
    "    if unsorted_data == None:\n",
    "        return None\n",
    "    lens = len(unsorted_data)\n",
    "    if lens == 0 or lens == 1:\n",
    "        return unsorted_data\n",
    "    else:\n",
    "        m_sort(unsorted_data,0,lens-1)\n",
    "        return unsorted_data"
   ]
  },
  {
   "cell_type": "markdown",
   "metadata": {},
   "source": [
    "### 测试归并排序"
   ]
  },
  {
   "cell_type": "code",
   "execution_count": 17,
   "metadata": {},
   "outputs": [
    {
     "name": "stdout",
     "output_type": "stream",
     "text": [
      "排序结果是否正确: True\n",
      "排序结果是否正确: True\n",
      "排序结果是否正确: True\n",
      "排序结果是否正确: True\n",
      "排序结果是否正确: True\n",
      "排序结果是否正确: True\n",
      "排序结果是否正确: True\n",
      "排序结果是否正确: True\n"
     ]
    }
   ],
   "source": [
    "test_data = get_unsorted_data(-65535,65536,[0,1,2,100,150,4343,23232,894743],seed = 9999)\n",
    "sort_is_correct(merge_sort,test_data)"
   ]
  },
  {
   "cell_type": "code",
   "execution_count": null,
   "metadata": {},
   "outputs": [],
   "source": []
  }
 ],
 "metadata": {
  "kernelspec": {
   "display_name": "Python 2",
   "language": "python",
   "name": "python2"
  },
  "language_info": {
   "codemirror_mode": {
    "name": "ipython",
    "version": 2
   },
   "file_extension": ".py",
   "mimetype": "text/x-python",
   "name": "python",
   "nbconvert_exporter": "python",
   "pygments_lexer": "ipython2",
   "version": "2.7.14"
  }
 },
 "nbformat": 4,
 "nbformat_minor": 2
}
