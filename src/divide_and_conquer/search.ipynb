{
 "cells": [
  {
   "cell_type": "code",
   "execution_count": 2,
   "metadata": {},
   "outputs": [],
   "source": [
    "import numpy as np"
   ]
  },
  {
   "cell_type": "markdown",
   "metadata": {},
   "source": [
    "## 生成有序List "
   ]
  },
  {
   "cell_type": "code",
   "execution_count": 5,
   "metadata": {},
   "outputs": [],
   "source": [
    "def get_sorted_data(lower,higher,test_nums,seed):\n",
    "    \"\"\"\n",
    "    type test_nums:list[int]\n",
    "    type seed:int\n",
    "    rtype [list]\n",
    "    \"\"\"\n",
    "    np.random.seed(seed)\n",
    "    sorted_data = []\n",
    "    for item in test_nums:\n",
    "        sorted_data.append(np.sort(np.random.randint(lower,higher,size=item)).tolist())\n",
    "    return sorted_data"
   ]
  },
  {
   "cell_type": "code",
   "execution_count": 6,
   "metadata": {},
   "outputs": [
    {
     "data": {
      "text/plain": [
       "[[-41, -15, 77, 96]]"
      ]
     },
     "execution_count": 6,
     "metadata": {},
     "output_type": "execute_result"
    }
   ],
   "source": [
    "get_sorted_data(-56,100,[4],390)"
   ]
  },
  {
   "cell_type": "markdown",
   "metadata": {},
   "source": [
    "### 生成无序列表 "
   ]
  },
  {
   "cell_type": "code",
   "execution_count": 15,
   "metadata": {},
   "outputs": [],
   "source": [
    "def get_unsorted_data(lower,higher,test_nums,seed):\n",
    "    \"\"\"\n",
    "    type test_nums:list[int]\n",
    "    type seed:int\n",
    "    rtype [list]\n",
    "    \"\"\"\n",
    "    np.random.seed(seed)\n",
    "    unsorted_data = []\n",
    "    for item in test_nums:\n",
    "        unsorted_data.append(np.random.randint(lower,higher,size=item).tolist())\n",
    "    return unsorted_data"
   ]
  },
  {
   "cell_type": "markdown",
   "metadata": {},
   "source": [
    "### 交换函数 "
   ]
  },
  {
   "cell_type": "code",
   "execution_count": 14,
   "metadata": {},
   "outputs": [],
   "source": [
    "def swap(data,i,j):\n",
    "    data[i],data[j] = data[j],data[i]"
   ]
  },
  {
   "cell_type": "markdown",
   "metadata": {},
   "source": [
    "## 二分查找（二分搜索）"
   ]
  },
  {
   "cell_type": "code",
   "execution_count": 11,
   "metadata": {},
   "outputs": [],
   "source": [
    "def binary_search(sorted_data, item):\n",
    "    \"\"\"\n",
    "    type sorted_data:[]\n",
    "    type item:data\n",
    "    rtype int\n",
    "    \"\"\"\n",
    "    lens = len(sorted_data)\n",
    "    if sorted_data == None or lens == 0:\n",
    "        return -2\n",
    "    lower , higher = 0 , lens-1\n",
    "    item_index = -1\n",
    "    while lower <= higher:\n",
    "        middle = lower+(higher - lower)/2\n",
    "        if sorted_data[middle] < item:\n",
    "            lower = middle+1\n",
    "            continue\n",
    "        elif sorted_data[middle] > item:\n",
    "            higher = middle-1\n",
    "            continue\n",
    "        else:\n",
    "            item_index = middle\n",
    "            break\n",
    "    return item_index"
   ]
  },
  {
   "cell_type": "markdown",
   "metadata": {},
   "source": [
    "## 测试二分查找 "
   ]
  },
  {
   "cell_type": "code",
   "execution_count": 28,
   "metadata": {},
   "outputs": [
    {
     "name": "stdout",
     "output_type": "stream",
     "text": [
      "1\n",
      "1\n",
      "1\n",
      "1\n",
      "0\n",
      "1\n",
      "0\n",
      "0\n",
      "0\n",
      "0\n"
     ]
    }
   ],
   "source": [
    "for i in range(10):\n",
    "    print np.random.randint(0,2)"
   ]
  },
  {
   "cell_type": "code",
   "execution_count": 12,
   "metadata": {},
   "outputs": [
    {
     "name": "stdout",
     "output_type": "stream",
     "text": [
      "查找是否成功: True\n",
      "查找是否成功: True\n",
      "查找是否成功: True\n",
      "查找是否成功: True\n",
      "查找是否成功: True\n",
      "查找是否成功: True\n",
      "查找是否成功: True\n",
      "查找是否成功: True\n",
      "查找是否成功: True\n",
      "查找是否成功: True\n"
     ]
    }
   ],
   "source": [
    "sorted_data = get_sorted_data(lower=-65523,higher=65538,test_nums=[0,5,4,3,2,2,1,3636,477774,893939],seed=6790)\n",
    "for item in sorted_data:\n",
    "    cur_num = np.random.randint(-65523,65538)\n",
    "    result = binary_search(item,cur_num)\n",
    "    print \"查找是否成功:\",(result < 0) or (cur_num == item[result]) "
   ]
  },
  {
   "cell_type": "markdown",
   "metadata": {},
   "source": [
    "## 查找无序列表中第k大（小）的数\n",
    "- $k\\in[0,n)$,其中**n**表示待检查元素的个数 "
   ]
  },
  {
   "cell_type": "code",
   "execution_count": 41,
   "metadata": {},
   "outputs": [],
   "source": [
    "def get_kth_item(unsorted_data, k):\n",
    "    \"\"\"\n",
    "    type unsorted_data:[atype]\n",
    "    type k:int\n",
    "    rtype atype\n",
    "    \"\"\"\n",
    "    if unsorted_data == None:\n",
    "        return None\n",
    "    lens = len(unsorted_data)\n",
    "    if k < 0 or k >= lens:\n",
    "        return None\n",
    "    lower ,higher = 0 , lens-1\n",
    "    while 1 :\n",
    "        cur_index = np.random.randint(lower,higher+1)\n",
    "        swap(unsorted_data,lower,cur_index)\n",
    "        cur_item  = unsorted_data[lower]\n",
    "        \n",
    "        # step1 根据cur_item 将 list 划分为两部分，确保cur_index 后的数值全部大于cur_item, cur_index 前的数值全部\n",
    "        # 不大于cur_item\n",
    "        i , j = lower , higher\n",
    "        while i <= j:\n",
    "            while j >= lower:\n",
    "                if unsorted_data[j] > cur_item:\n",
    "                    j -= 1\n",
    "                else:\n",
    "                    break\n",
    "            while i <= higher:\n",
    "                if unsorted_data[i] <= cur_item:\n",
    "                    i += 1\n",
    "                else:\n",
    "                    break\n",
    "            if i < j:\n",
    "                swap(unsorted_data,i,j)\n",
    "                i += 1\n",
    "                j -= 1\n",
    "        swap(unsorted_data,j,lower)\n",
    "\n",
    "        # step2 比较cur_index 与 k的大小，并确定下一步该如何处理\n",
    "        if j > k:\n",
    "            higher = j - 1\n",
    "        elif j < k:\n",
    "            lower = j + 1\n",
    "        else:\n",
    "            return unsorted_data[j]"
   ]
  },
  {
   "cell_type": "markdown",
   "metadata": {},
   "source": [
    "### 测试 func:get_kth_item"
   ]
  },
  {
   "cell_type": "code",
   "execution_count": 52,
   "metadata": {},
   "outputs": [
    {
     "name": "stdout",
     "output_type": "stream",
     "text": [
      "结果是否正确: True\n",
      "结果是否正确: True\n",
      "结果是否正确: True\n",
      "结果是否正确: True\n",
      "结果是否正确: True\n",
      "结果是否正确: True\n",
      "结果是否正确: True\n",
      "结果是否正确: True\n",
      "结果是否正确: True\n"
     ]
    }
   ],
   "source": [
    "unsorted_datas = get_unsorted_data(lower=-32655,higher=62578,test_nums=[1,2,3,4334,433,232323,112121],seed=9990)\n",
    "unsorted_datas.append([29,56])\n",
    "unsorted_datas.append([28,28,28])\n",
    "for item in unsorted_datas:\n",
    "    k = np.random.randint(0,len(item))\n",
    "    print \"结果是否正确:\",get_kth_item(item,k) == sorted(item)[k]"
   ]
  },
  {
   "cell_type": "code",
   "execution_count": null,
   "metadata": {},
   "outputs": [],
   "source": []
  }
 ],
 "metadata": {
  "kernelspec": {
   "display_name": "Python 2",
   "language": "python",
   "name": "python2"
  },
  "language_info": {
   "codemirror_mode": {
    "name": "ipython",
    "version": 2
   },
   "file_extension": ".py",
   "mimetype": "text/x-python",
   "name": "python",
   "nbconvert_exporter": "python",
   "pygments_lexer": "ipython2",
   "version": "2.7.14"
  }
 },
 "nbformat": 4,
 "nbformat_minor": 2
}
