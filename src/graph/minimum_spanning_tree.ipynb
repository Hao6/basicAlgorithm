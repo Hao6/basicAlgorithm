{
 "cells": [
  {
   "cell_type": "markdown",
   "metadata": {},
   "source": [
    "# 最小生成树算法\n",
    "- Prim算法，顶点拓展  \n",
    "\n",
    "\n",
    "1. 从图的顶点集合中任意选择一个顶点a作为初始节点，放入空集合T中，其余顶点放入集合G中\n",
    "2. 如果G为空，则结束算法，否则转到3   \n",
    "3. 从G中选择一个顶点x加入T中，顶点x与T中的一个节点y之间的边是集合G与集合T的连接边(边的顶点分别在两个集合中)中权重最小的  \n",
    "4. 将x从G中删除  \n",
    "\n",
    "\n",
    "- Kruskal算法，边拓展算法  \n",
    "\n",
    "\n",
    "1. 初始化一个空集合T,一个边集合G包含所有的边  \n",
    "2. 从G中选择权重最小的边x，加入T中，判断如果T中所有的边不构成环，则转到3，否则将x从T、G中删除，转到2  \n",
    "3. 判断T中边的数量是否等于n-1,为原始图的顶点数量，如果等于则退出算法，否则转到2  "
   ]
  },
  {
   "cell_type": "code",
   "execution_count": 1,
   "metadata": {},
   "outputs": [
    {
     "name": "stdout",
     "output_type": "stream",
     "text": [
      "None\n",
      "None\n",
      "[[0, 3, 0], [3, 0, 4], [0, 4, 0]]\n",
      "[(0, 1), (1, 0), (1, 2), (2, 1)]\n",
      "[0, 1, 2]\n",
      "False\n",
      "True\n",
      "False\n",
      "True\n",
      "False\n",
      "True\n",
      "False\n",
      "True\n",
      "False\n",
      "[]\n",
      "False\n",
      "False\n",
      "False\n",
      "False\n",
      "False\n",
      "False\n",
      "False\n",
      "False\n",
      "False\n",
      "[NbConvertApp] Converting notebook graph_class.ipynb to python\n",
      "[NbConvertApp] Writing 3088 bytes to graph_class.py\n"
     ]
    }
   ],
   "source": [
    "from graph_class import graph"
   ]
  },
  {
   "cell_type": "code",
   "execution_count": 2,
   "metadata": {},
   "outputs": [],
   "source": [
    "g = graph([[2,3],[4,5]],is_directed=False)"
   ]
  },
  {
   "cell_type": "markdown",
   "metadata": {},
   "source": [
    "## Prim算法 "
   ]
  },
  {
   "cell_type": "code",
   "execution_count": 3,
   "metadata": {},
   "outputs": [],
   "source": [
    "def prim(g):\n",
    "    \"\"\"\n",
    "    type g:graph\n",
    "    rtype :graph\n",
    "    \"\"\"\n",
    "    if g.vertexs == None:\n",
    "        g.build_vertexs()\n",
    "    init_vertex = 0\n",
    "    T = [init_vertex]\n",
    "    G = g.vertexs\n",
    "    G.remove(init_vertex)\n",
    "\n",
    "\n",
    "    mini_span_tree = graph([[0]*len(g.graph_matrix) for i in range(len(g.graph_matrix))],is_directed=False)\n",
    "\n",
    "    while len(G) > 0:\n",
    "        min_weight = float(\"inf\")\n",
    "        min_index_t = -1\n",
    "        min_index_g = -1\n",
    "        for i in T:  # 此处的时间复杂度可以通过牺牲空间来降低\n",
    "            for j in G:\n",
    "                if g.graph_matrix[i][j] > 0 and g.graph_matrix[i][j] < min_weight:\n",
    "                    min_weight = g.graph_matrix[i][j]\n",
    "                    min_index_t = i\n",
    "                    min_index_g = j\n",
    "        T.append(min_index_g)\n",
    "        G.remove(min_index_g)\n",
    "        mini_span_tree.add_edges(min_index_t, min_index_g,\\\n",
    "                                 g.graph_matrix[min_index_t][min_index_g]) # 作为最小生成树的一条边加入边集合\n",
    "        mini_span_tree.add_edges(min_index_g, min_index_t, \\\n",
    "                                 g.graph_matrix[min_index_g][min_index_t])\n",
    "\n",
    "    return mini_span_tree"
   ]
  },
  {
   "cell_type": "markdown",
   "metadata": {},
   "source": [
    "### 测试prim算法 "
   ]
  },
  {
   "cell_type": "code",
   "execution_count": 4,
   "metadata": {},
   "outputs": [],
   "source": [
    "_ = [[0,3,0,0,6,5],[3,0,1,0,0,4],[0,1,0,6,0,4],[0,0,6,0,8,5],[6,0,0,8,0,2],\\\n",
    "           [5,4,4,5,2,0]]"
   ]
  },
  {
   "cell_type": "code",
   "execution_count": 5,
   "metadata": {},
   "outputs": [
    {
     "data": {
      "text/plain": [
       "[[0, 3, 0, 0, 6, 5],\n",
       " [3, 0, 1, 0, 0, 4],\n",
       " [0, 1, 0, 6, 0, 4],\n",
       " [0, 0, 6, 0, 8, 5],\n",
       " [6, 0, 0, 8, 0, 2],\n",
       " [5, 4, 4, 5, 2, 0]]"
      ]
     },
     "execution_count": 5,
     "metadata": {},
     "output_type": "execute_result"
    }
   ],
   "source": [
    "_"
   ]
  },
  {
   "cell_type": "code",
   "execution_count": 6,
   "metadata": {},
   "outputs": [],
   "source": [
    "g_prim = graph(_,is_directed=False)\n",
    "t_prim = prim(g_prim)"
   ]
  },
  {
   "cell_type": "code",
   "execution_count": 7,
   "metadata": {},
   "outputs": [
    {
     "data": {
      "text/plain": [
       "[[0, 3, 0, 0, 0, 0],\n",
       " [3, 0, 1, 0, 0, 4],\n",
       " [0, 1, 0, 0, 0, 0],\n",
       " [0, 0, 0, 0, 0, 5],\n",
       " [0, 0, 0, 0, 0, 2],\n",
       " [0, 4, 0, 5, 2, 0]]"
      ]
     },
     "execution_count": 7,
     "metadata": {},
     "output_type": "execute_result"
    }
   ],
   "source": [
    "t_prim.graph_matrix"
   ]
  },
  {
   "cell_type": "markdown",
   "metadata": {},
   "source": [
    "## Kruskal算法"
   ]
  },
  {
   "cell_type": "code",
   "execution_count": 8,
   "metadata": {},
   "outputs": [],
   "source": [
    "def kruskal(g):\n",
    "    \"\"\"\n",
    "    type g:graph\n",
    "    rtype :graph\n",
    "    \"\"\"\n",
    "    \n",
    "    "
   ]
  }
 ],
 "metadata": {
  "kernelspec": {
   "display_name": "Python 2",
   "language": "python",
   "name": "python2"
  },
  "language_info": {
   "codemirror_mode": {
    "name": "ipython",
    "version": 2
   },
   "file_extension": ".py",
   "mimetype": "text/x-python",
   "name": "python",
   "nbconvert_exporter": "python",
   "pygments_lexer": "ipython2",
   "version": "2.7.15"
  }
 },
 "nbformat": 4,
 "nbformat_minor": 2
}
