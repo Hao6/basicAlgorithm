{
 "cells": [
  {
   "cell_type": "markdown",
   "metadata": {},
   "source": [
    "# 定义 class graph \n",
    "- 使用邻接矩阵表示图(包括有向图与无向图)  \n",
    "- 邻接矩阵是个方阵，记为$M_{nn}$,其中$M_{ij}$表示顶点$i$与顶点$j$之间是否存在一条边；具体来说，如果不是带有边权重的图，则$M_{ij} = 0$表示顶点$i$与顶点$j$之间不存在一条边，而$M_{ij} = 1$表示顶点$i$与顶点$j$之间存在一条边；如果是带有边权重的图，则$M_{ij} != 0$表示的是顶点$i$与顶点$j$之间边的权重\n",
    "- 如果是无向图，则最终的邻接矩阵是对称的，否则就不一定"
   ]
  },
  {
   "cell_type": "code",
   "execution_count": 1,
   "metadata": {},
   "outputs": [],
   "source": [
    "class graph:\n",
    "    # 使用邻接矩阵便可以构造出图\n",
    "    def __init__(self, g_matrix, is_directed=True, vertexs = None, edges = None):\n",
    "        self.is_directed = is_directed # 是否是有向图\n",
    "        self.vertexs = vertexs              # 顶点集合\n",
    "        self.edges   = edges              # 边集合，使用(vertex_x,vertex_y)表示顶点x与y之间的一条边\n",
    "        self.graph_matrix = g_matrix         # 邻接矩阵\n",
    "    # 判断两个顶点之间是否有一条边\n",
    "    def is_edges(self,vertex_x,vertex_y):\n",
    "        return self.graph_matrix[vertex_x][vertex_y] != 0\n",
    "    # 删除两个顶点之间的一条边\n",
    "    def del_edges(self,vertex_x,vertex_y):\n",
    "        if self.is_edges(vertex_x,vertex_y) == True:\n",
    "            self.graph_matrix[vertex_x][vertex_y] = 0\n",
    "            if self.is_directed == False:\n",
    "                self.graph_matrix[vertex_y][vertex_x] = 0\n",
    "            if self.edges != None and (vertex_x,vertex_y) in self.edges:\n",
    "                self.edges.remove((vertex_x,vertex_y))\n",
    "                if self.is_directed == False:\n",
    "                    self.edges.remove((vertex_y,vertex_x))\n",
    "                \n",
    "    # 添加一条边\n",
    "    def add_edges(self,vertex_x, vertex_y ,weight):\n",
    "        self.graph_matrix[vertex_x][vertex_y] = weight\n",
    "        if self.is_edges(vertex_x,vertex_y) == False:\n",
    "            if self.is_directed == False:\n",
    "                self.graph_matrix[vertex_y][vertex_x] = weight\n",
    "            if self.edges != None and (vertex_x, vertex_y) not in self.edges:\n",
    "                self.edges.append((vertex_x, vertex_y))\n",
    "                if self.is_directed == False:\n",
    "                    self.edges.append((vertex_y, vertex_x))\n",
    "            \n",
    "\n",
    "\n",
    "    # 生成顶点集合\n",
    "    def build_vertexs(self):\n",
    "        if self.vertexs == None:\n",
    "            self.vertexs = [i for i in range(len(self.graph_matrix))]\n",
    "    \n",
    "    # 生成边集合\n",
    "    def build_edges(self):\n",
    "        if self.edges == None:\n",
    "            self.edges = [] # 初始化一个空的边集合\n",
    "            for i in range(len(self.graph_matrix)):\n",
    "                for j in range(len(self.graph_matrix)):\n",
    "                    if self.is_edges(i,j)==True:\n",
    "                        self.edges.append((i,j))"
   ]
  },
  {
   "cell_type": "markdown",
   "metadata": {},
   "source": [
    "## class graph 的一些test "
   ]
  },
  {
   "cell_type": "code",
   "execution_count": 2,
   "metadata": {},
   "outputs": [],
   "source": [
    "temp_graph = [[0,3,0],[3,0,4],[0,4,0]]\n",
    "g_a = graph(temp_graph, is_directed=False)"
   ]
  },
  {
   "cell_type": "code",
   "execution_count": 3,
   "metadata": {},
   "outputs": [
    {
     "name": "stdout",
     "output_type": "stream",
     "text": [
      "None\n"
     ]
    }
   ],
   "source": [
    "print g_a.edges"
   ]
  },
  {
   "cell_type": "code",
   "execution_count": 4,
   "metadata": {},
   "outputs": [
    {
     "name": "stdout",
     "output_type": "stream",
     "text": [
      "None\n"
     ]
    }
   ],
   "source": [
    "print g_a.vertexs"
   ]
  },
  {
   "cell_type": "code",
   "execution_count": 5,
   "metadata": {},
   "outputs": [
    {
     "name": "stdout",
     "output_type": "stream",
     "text": [
      "[[0, 3, 0], [3, 0, 4], [0, 4, 0]]\n"
     ]
    }
   ],
   "source": [
    "print g_a.graph_matrix"
   ]
  },
  {
   "cell_type": "code",
   "execution_count": 6,
   "metadata": {},
   "outputs": [
    {
     "name": "stdout",
     "output_type": "stream",
     "text": [
      "[(0, 1), (1, 0), (1, 2), (2, 1)]\n"
     ]
    }
   ],
   "source": [
    "g_a.build_edges()\n",
    "print g_a.edges"
   ]
  },
  {
   "cell_type": "code",
   "execution_count": 7,
   "metadata": {},
   "outputs": [
    {
     "name": "stdout",
     "output_type": "stream",
     "text": [
      "[0, 1, 2]\n"
     ]
    }
   ],
   "source": [
    "g_a.build_vertexs()\n",
    "print g_a.vertexs"
   ]
  },
  {
   "cell_type": "code",
   "execution_count": 8,
   "metadata": {},
   "outputs": [
    {
     "name": "stdout",
     "output_type": "stream",
     "text": [
      "False\n",
      "True\n",
      "False\n",
      "True\n",
      "False\n",
      "True\n",
      "False\n",
      "True\n",
      "False\n"
     ]
    }
   ],
   "source": [
    "for i in range(len(temp_graph)):\n",
    "    for j in range(len(temp_graph)):\n",
    "        print g_a.is_edges(i,j)"
   ]
  },
  {
   "cell_type": "code",
   "execution_count": 9,
   "metadata": {},
   "outputs": [],
   "source": [
    "for i in range(len(temp_graph)):\n",
    "    for j in range(len(temp_graph)):\n",
    "        g_a.del_edges(i,j)"
   ]
  },
  {
   "cell_type": "code",
   "execution_count": 10,
   "metadata": {},
   "outputs": [
    {
     "name": "stdout",
     "output_type": "stream",
     "text": [
      "[]\n"
     ]
    }
   ],
   "source": [
    "print g_a.edges"
   ]
  },
  {
   "cell_type": "code",
   "execution_count": 11,
   "metadata": {},
   "outputs": [
    {
     "name": "stdout",
     "output_type": "stream",
     "text": [
      "False\n",
      "False\n",
      "False\n",
      "False\n",
      "False\n",
      "False\n",
      "False\n",
      "False\n",
      "False\n"
     ]
    }
   ],
   "source": [
    "for i in range(len(temp_graph)):\n",
    "    for j in range(len(temp_graph)):\n",
    "        print g_a.is_edges(i,j)"
   ]
  },
  {
   "cell_type": "code",
   "execution_count": 12,
   "metadata": {},
   "outputs": [
    {
     "name": "stdout",
     "output_type": "stream",
     "text": [
      "[NbConvertApp] Converting notebook graph_class.ipynb to python\n",
      "[NbConvertApp] Writing 3079 bytes to graph_class.py\n"
     ]
    }
   ],
   "source": [
    "try:\n",
    "    !jupyter nbconvert --to python graph_class.ipynb\n",
    "except:\n",
    "    pass"
   ]
  }
 ],
 "metadata": {
  "kernelspec": {
   "display_name": "Python 2",
   "language": "python",
   "name": "python2"
  },
  "language_info": {
   "codemirror_mode": {
    "name": "ipython",
    "version": 2
   },
   "file_extension": ".py",
   "mimetype": "text/x-python",
   "name": "python",
   "nbconvert_exporter": "python",
   "pygments_lexer": "ipython2",
   "version": "2.7.15"
  }
 },
 "nbformat": 4,
 "nbformat_minor": 2
}
