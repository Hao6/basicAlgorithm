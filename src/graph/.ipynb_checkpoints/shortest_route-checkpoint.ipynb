{
 "cells": [
  {
   "cell_type": "markdown",
   "metadata": {},
   "source": [
    "# 寻找单源最短路径\n",
    "- Dijkstra 算法  \n",
    "- 所谓单源最短路径，即是从图中的一个顶点a出发，到其余可达顶点的分别的最短路径  \n",
    "\n",
    "\n",
    "1. 初始时定义两个顶点集合A={a},B={b,c,d,...},且a到B集合中顶点的路径长度为边权重或者无穷大(前一种情况对应邻接，后一种非邻接)，将对应的路径长度记录在route中\n",
    "2. 判断B是否为空集，如果是则退出程序，否则转到3\n",
    "3. 从B中选择一个顶点x加入A中，选择的标准(贪心策略)是dis(a,x)最小，且该值即使最终的结果,将x从B中删去，添加到A中;\n",
    "4. 利用3中加入的x来重新更新route,具体的更新原则对于所有的 $y in B$ ,如果dis(a,y) > dis(a,x)+dis(x,y),则更新dis(a,y)为dis(a,x)+dis(x,y)"
   ]
  },
  {
   "cell_type": "code",
   "execution_count": 6,
   "metadata": {},
   "outputs": [],
   "source": [
    "from graph_class import graph"
   ]
  },
  {
   "cell_type": "code",
   "execution_count": 19,
   "metadata": {},
   "outputs": [
    {
     "data": {
      "text/plain": [
       "[2, 3]"
      ]
     },
     "execution_count": 19,
     "metadata": {},
     "output_type": "execute_result"
    }
   ],
   "source": [
    "a = [1,2,3]\n",
    "a.remove(1)"
   ]
  },
  {
   "cell_type": "code",
   "execution_count": 31,
   "metadata": {},
   "outputs": [],
   "source": [
    "def find_shorted_route(init_vertex, g):\n",
    "    if g.vertexs == None:\n",
    "        g.build_vertexs()\n",
    "\n",
    "    # 初始化顶点集合\n",
    "    vertexs_a = [init_vertex]\n",
    "    # g.build_vertexs()\n",
    "    vertexs_b = g.vertexs\n",
    "    vertexs_b.remove(init_vertex)\n",
    "\n",
    "    # 初始化route\n",
    "    route = {}\n",
    "    for i in vertexs_b:\n",
    "        if g.is_edges(init_vertex, i):\n",
    "            route[i] = g.graph_matrix[init_vertex][i]\n",
    "        else:\n",
    "            route[i] = float(\"inf\")  # 无穷大\n",
    "    result = {}\n",
    "    while len(vertexs_b) > 0:\n",
    "        cur_vertex = min(route, key=lambda item: route[item])\n",
    "        result[cur_vertex] = route[cur_vertex]\n",
    "        vertexs_b.remove(cur_vertex)\n",
    "        route.pop(cur_vertex)\n",
    "        vertexs_a.append(cur_vertex)\n",
    "\n",
    "        for key, length in route.iteritems():\n",
    "            if g.graph_matrix[cur_vertex][key]>0 and length > result[cur_vertex] + g.graph_matrix[cur_vertex][key]:\n",
    "                route[key] = result[cur_vertex] + g.graph_matrix[cur_vertex][key]\n",
    "    return result"
   ]
  },
  {
   "cell_type": "markdown",
   "metadata": {},
   "source": [
    "### 迪杰斯特拉算法的test "
   ]
  },
  {
   "cell_type": "code",
   "execution_count": 32,
   "metadata": {},
   "outputs": [],
   "source": [
    "temp_graph = [[0,3,0,7,0],[3,0,4,2,0],[0,4,0,5,6],[7,2,5,0,4],[0,0,6,4,0]]\n",
    "g_a = graph(temp_graph, is_directed=True)"
   ]
  },
  {
   "cell_type": "code",
   "execution_count": 33,
   "metadata": {},
   "outputs": [
    {
     "data": {
      "text/plain": [
       "{1: 3, 2: 7, 3: 5, 4: 9}"
      ]
     },
     "execution_count": 33,
     "metadata": {},
     "output_type": "execute_result"
    }
   ],
   "source": [
    "find_shorted_route(init_vertex=0,g=g_a)"
   ]
  },
  {
   "cell_type": "code",
   "execution_count": null,
   "metadata": {},
   "outputs": [],
   "source": []
  }
 ],
 "metadata": {
  "kernelspec": {
   "display_name": "Python 2",
   "language": "python",
   "name": "python2"
  },
  "language_info": {
   "codemirror_mode": {
    "name": "ipython",
    "version": 2
   },
   "file_extension": ".py",
   "mimetype": "text/x-python",
   "name": "python",
   "nbconvert_exporter": "python",
   "pygments_lexer": "ipython2",
   "version": "2.7.15"
  }
 },
 "nbformat": 4,
 "nbformat_minor": 2
}
