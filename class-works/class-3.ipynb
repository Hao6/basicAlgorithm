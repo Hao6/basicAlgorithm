{
 "cells": [
  {
   "cell_type": "markdown",
   "metadata": {},
   "source": [
    "# 贪心算法\n",
    "- 贪心算法（又称贪婪算法）是指，在对问题求解时，总是做出在当前看来是最好的选择。也就是说，不从整体最优上加以考虑，每一步都是着眼于当前情况下的最优解，但最终的全局最优解是通过局部最优解迭代得到的。\n",
    "- 贪心算法能否得到全局最优解的关键是关贪心策略(度量标准)的选择，使用的贪心策略必须具备无后效性，即某个状态以前的过程不会影响以后的状态，只与当前状态有关。"
   ]
  },
  {
   "cell_type": "markdown",
   "metadata": {},
   "source": [
    "## 背包问题\n",
    "- 问题描述如下，有一个空间容量为V的背包，有一些可以装进背包的物品，每个物品都有相应的价值w[i]与占据的空间v[i]，这些物品都可以被任意分割为几部分，问该背包所能装载物品的最大价值是多少？\n",
    "- 使用贪心解法，其中最为关键的度量标准是 **单位体积的物品价值**，即尽可能多的优先选择 **单位体积的物品价值** 更高的物品放进背包"
   ]
  },
  {
   "cell_type": "code",
   "execution_count": 1,
   "metadata": {},
   "outputs": [],
   "source": [
    "from __future__ import division"
   ]
  },
  {
   "cell_type": "code",
   "execution_count": 2,
   "metadata": {},
   "outputs": [],
   "source": [
    "def backpack(V, w, v):\n",
    "    \"\"\"\n",
    "    type V:float\n",
    "    type w:[int]\n",
    "    type v:[int]\n",
    "    rtype :float\n",
    "    \"\"\"\n",
    "    \n",
    "    # step 1, 将物品价值-体积组合起来，方便排序\n",
    "    w_v = zip(w, v)\n",
    "    \n",
    "    # step 2, 按照每件物品的 单位体积的价值 对其进行降序排序\n",
    "    w_v.sort(key = lambda item: item[0]/item[1] ,reverse = True)\n",
    "    \n",
    "    # step 3, 按照度量标准选择物品\n",
    "    W = 0 # 空背包的价值\n",
    "    for i in range(len(w_v)):\n",
    "        if V == 0:         # 背包没有空间\n",
    "            break\n",
    "        if w_v[i][1] < V:  # 背包剩余空间能完全装下当前的物品\n",
    "            W += w_v[i][0]\n",
    "            V -= w_v[i][1]\n",
    "        else:           # 背包剩余空间不能完全装下当前的物品\n",
    "            W += w_v[i][0]*(V/w_v[i][1]) # 按照比例加入背包\n",
    "            break\n",
    "    return W"
   ]
  },
  {
   "cell_type": "markdown",
   "metadata": {},
   "source": [
    "### 测试背包问题 "
   ]
  },
  {
   "cell_type": "code",
   "execution_count": 3,
   "metadata": {},
   "outputs": [
    {
     "name": "stdout",
     "output_type": "stream",
     "text": [
      "16.6666666667\n"
     ]
    }
   ],
   "source": [
    "w = [20,30,10]\n",
    "v = [60,120,50]\n",
    "V = 50\n",
    "print backpack(V,w,v)"
   ]
  },
  {
   "cell_type": "markdown",
   "metadata": {},
   "source": [
    "## 最小生成树算法\n",
    "- Prim算法，顶点拓展  \n",
    "\n",
    "\n",
    "1. 从图的顶点集合中任意选择一个顶点a作为初始节点，放入空集合T中，其余顶点放入集合G中\n",
    "2. 如果G为空，则结束算法，否则转到3   \n",
    "3. 从G中选择一个顶点x加入T中，顶点x与T中的一个节点y之间的边是集合G与集合T的连接边(边的顶点分别在两个集合中)中权重最小的  \n",
    "4. 将x从G中删除  "
   ]
  },
  {
   "cell_type": "markdown",
   "metadata": {},
   "source": [
    "### 定义 class graph \n",
    "- 使用邻接矩阵表示图(包括有向图与无向图)  \n",
    "- 邻接矩阵是个方阵，记为$M_{nn}$,其中$M_{ij}$表示顶点$i$与顶点$j$之间是否存在一条边；具体来说，如果不是带有边权重的图，则$M_{ij} = 0$表示顶点$i$与顶点$j$之间不存在一条边，而$M_{ij} = 1$表示顶点$i$与顶点$j$之间存在一条边；如果是带有边权重的图，则$M_{ij} != 0$表示的是顶点$i$与顶点$j$之间边的权重\n",
    "- 如果是无向图，则最终的邻接矩阵是对称的，否则就不一定"
   ]
  },
  {
   "cell_type": "code",
   "execution_count": 4,
   "metadata": {},
   "outputs": [],
   "source": [
    "class graph:\n",
    "    # 使用邻接矩阵便可以构造出图\n",
    "    def __init__(self, g_matrix, is_directed=True, vertexs = None, edges = None):\n",
    "        self.is_directed = is_directed # 是否是有向图\n",
    "        self.vertexs = vertexs              # 顶点集合\n",
    "        self.edges   = edges              # 边集合，使用(vertex_x,vertex_y)表示顶点x与y之间的一条边\n",
    "        self.graph_matrix = g_matrix         # 邻接矩阵\n",
    "    # 判断两个顶点之间是否有一条边\n",
    "    def is_edges(self,vertex_x,vertex_y):\n",
    "        return self.graph_matrix[vertex_x][vertex_y] != 0\n",
    "    # 删除两个顶点之间的一条边\n",
    "    def del_edges(self,vertex_x,vertex_y):\n",
    "        if self.is_edges(vertex_x,vertex_y) == True:\n",
    "            self.graph_matrix[vertex_x][vertex_y] = 0\n",
    "            if self.is_directed == False:\n",
    "                self.graph_matrix[vertex_y][vertex_x] = 0\n",
    "            if self.edges != None and (vertex_x,vertex_y) in self.edges:\n",
    "                self.edges.remove((vertex_x,vertex_y))\n",
    "                if self.is_directed == False:\n",
    "                    self.edges.remove((vertex_y,vertex_x))\n",
    "                \n",
    "    # 添加一条边\n",
    "    def add_edges(self,vertex_x, vertex_y ,weight):\n",
    "        self.graph_matrix[vertex_x][vertex_y] = weight\n",
    "        if self.is_edges(vertex_x,vertex_y) == False:\n",
    "            if self.is_directed == False:\n",
    "                self.graph_matrix[vertex_y][vertex_x] = weight\n",
    "            if self.edges != None and (vertex_x, vertex_y) not in self.edges:\n",
    "                self.edges.append((vertex_x, vertex_y))\n",
    "                if self.is_directed == False:\n",
    "                    self.edges.append((vertex_y, vertex_x))\n",
    "            \n",
    "\n",
    "\n",
    "    # 生成顶点集合\n",
    "    def build_vertexs(self):\n",
    "        if self.vertexs == None:\n",
    "            self.vertexs = [i for i in range(len(self.graph_matrix))]\n",
    "    \n",
    "    # 生成边集合\n",
    "    def build_edges(self):\n",
    "        if self.edges == None:\n",
    "            self.edges = [] # 初始化一个空的边集合\n",
    "            for i in range(len(self.graph_matrix)):\n",
    "                for j in range(len(self.graph_matrix)):\n",
    "                    if self.is_edges(i,j)==True:\n",
    "                        self.edges.append((i,j))"
   ]
  },
  {
   "cell_type": "markdown",
   "metadata": {},
   "source": [
    "## Prim算法 "
   ]
  },
  {
   "cell_type": "code",
   "execution_count": 5,
   "metadata": {},
   "outputs": [],
   "source": [
    "def prim(g):\n",
    "    \"\"\"\n",
    "    type g:graph\n",
    "    rtype :graph\n",
    "    \"\"\"\n",
    "    if g.vertexs == None:\n",
    "        g.build_vertexs()\n",
    "    init_vertex = 0\n",
    "    T = [init_vertex]\n",
    "    G = g.vertexs\n",
    "    G.remove(init_vertex)\n",
    "\n",
    "\n",
    "    mini_span_tree = graph([[0]*len(g.graph_matrix) for i in range(len(g.graph_matrix))],is_directed=False)\n",
    "\n",
    "    while len(G) > 0:\n",
    "        min_weight = float(\"inf\")\n",
    "        min_index_t = -1\n",
    "        min_index_g = -1\n",
    "        for i in T:  # 此处的时间复杂度可以通过牺牲空间来降低\n",
    "            for j in G:\n",
    "                if g.graph_matrix[i][j] > 0 and g.graph_matrix[i][j] < min_weight:\n",
    "                    min_weight = g.graph_matrix[i][j]\n",
    "                    min_index_t = i\n",
    "                    min_index_g = j\n",
    "        T.append(min_index_g)\n",
    "        G.remove(min_index_g)\n",
    "        mini_span_tree.add_edges(min_index_t, min_index_g,\\\n",
    "                                 g.graph_matrix[min_index_t][min_index_g]) # 作为最小生成树的一条边加入边集合\n",
    "        mini_span_tree.add_edges(min_index_g, min_index_t, \\\n",
    "                                 g.graph_matrix[min_index_g][min_index_t])\n",
    "\n",
    "    return mini_span_tree"
   ]
  },
  {
   "cell_type": "markdown",
   "metadata": {},
   "source": [
    "### 测试prim算法"
   ]
  },
  {
   "cell_type": "code",
   "execution_count": 6,
   "metadata": {},
   "outputs": [
    {
     "data": {
      "text/plain": [
       "[[0, 3, 0, 0, 6, 5],\n",
       " [3, 0, 1, 0, 0, 4],\n",
       " [0, 1, 0, 6, 0, 4],\n",
       " [0, 0, 6, 0, 8, 5],\n",
       " [6, 0, 0, 8, 0, 2],\n",
       " [5, 4, 4, 5, 2, 0]]"
      ]
     },
     "execution_count": 6,
     "metadata": {},
     "output_type": "execute_result"
    }
   ],
   "source": [
    "_ = [[0,3,0,0,6,5],[3,0,1,0,0,4],[0,1,0,6,0,4],[0,0,6,0,8,5],[6,0,0,8,0,2],\\\n",
    "           [5,4,4,5,2,0]]\n",
    "_"
   ]
  },
  {
   "cell_type": "code",
   "execution_count": 7,
   "metadata": {},
   "outputs": [],
   "source": [
    "g_prim = graph(_,is_directed=False)\n",
    "t_prim = prim(g_prim)"
   ]
  },
  {
   "cell_type": "code",
   "execution_count": 8,
   "metadata": {},
   "outputs": [
    {
     "data": {
      "text/plain": [
       "[[0, 3, 0, 0, 0, 0],\n",
       " [3, 0, 1, 0, 0, 4],\n",
       " [0, 1, 0, 0, 0, 0],\n",
       " [0, 0, 0, 0, 0, 5],\n",
       " [0, 0, 0, 0, 0, 2],\n",
       " [0, 4, 0, 5, 2, 0]]"
      ]
     },
     "execution_count": 8,
     "metadata": {},
     "output_type": "execute_result"
    }
   ],
   "source": [
    "t_prim.graph_matrix"
   ]
  },
  {
   "cell_type": "markdown",
   "metadata": {},
   "source": [
    "## 寻找单源最短路径\n",
    "- Dijkstra 算法  \n",
    "- 所谓单源最短路径，即是从图中的一个顶点a出发，到其余可达顶点的分别的最短路径  \n",
    "\n",
    "\n",
    "1. 初始时定义两个顶点集合A={a},B={b,c,d,...},且a到B集合中顶点的路径长度为边权重或者无穷大(前一种情况对应邻接，后一种非邻接)，将对应的路径长度记录在route中\n",
    "2. 判断B是否为空集，如果是则退出程序，否则转到3\n",
    "3. 从B中选择一个顶点x加入A中，选择的标准(贪心策略)是dis(a,x)最小，且该值即使最终的结果,将x从B中删去，添加到A中;\n",
    "4. 利用3中加入的x来重新更新route,具体的更新原则对于所有的 $y in B$ ,如果dis(a,y) > dis(a,x)+dis(x,y),则更新dis(a,y)为dis(a,x)+dis(x,y)"
   ]
  },
  {
   "cell_type": "code",
   "execution_count": 9,
   "metadata": {},
   "outputs": [],
   "source": [
    "def find_shorted_route(init_vertex, g):\n",
    "    if g.vertexs == None:\n",
    "        g.build_vertexs()\n",
    "\n",
    "    # 初始化顶点集合\n",
    "    vertexs_a = [init_vertex]\n",
    "    # g.build_vertexs()\n",
    "    vertexs_b = g.vertexs\n",
    "    vertexs_b.remove(init_vertex)\n",
    "\n",
    "    # 初始化route\n",
    "    route = {}\n",
    "    for i in vertexs_b:\n",
    "        if g.is_edges(init_vertex, i):\n",
    "            route[i] = g.graph_matrix[init_vertex][i]\n",
    "        else:\n",
    "            route[i] = float(\"inf\")  # 无穷大\n",
    "    result = {}\n",
    "    while len(vertexs_b) > 0:\n",
    "        cur_vertex = min(route, key=lambda item: route[item])\n",
    "        result[cur_vertex] = route[cur_vertex]\n",
    "        vertexs_b.remove(cur_vertex)\n",
    "        route.pop(cur_vertex)\n",
    "        vertexs_a.append(cur_vertex)\n",
    "\n",
    "        for key, length in route.iteritems():\n",
    "            if g.graph_matrix[cur_vertex][key]>0 and length > result[cur_vertex] + g.graph_matrix[cur_vertex][key]:\n",
    "                route[key] = result[cur_vertex] + g.graph_matrix[cur_vertex][key]\n",
    "    return result"
   ]
  },
  {
   "cell_type": "markdown",
   "metadata": {},
   "source": [
    "### 测试迪杰斯特拉算法"
   ]
  },
  {
   "cell_type": "code",
   "execution_count": 10,
   "metadata": {},
   "outputs": [],
   "source": [
    "temp_graph = [[0,3,0,7,0],[3,0,4,2,0],[0,4,0,5,6],[7,2,5,0,4],[0,0,6,4,0]]\n",
    "g_a = graph(temp_graph, is_directed=True)"
   ]
  },
  {
   "cell_type": "code",
   "execution_count": 11,
   "metadata": {},
   "outputs": [
    {
     "data": {
      "text/plain": [
       "{1: 3, 2: 7, 3: 5, 4: 9}"
      ]
     },
     "execution_count": 11,
     "metadata": {},
     "output_type": "execute_result"
    }
   ],
   "source": [
    "find_shorted_route(init_vertex=0,g=g_a)"
   ]
  },
  {
   "cell_type": "code",
   "execution_count": null,
   "metadata": {},
   "outputs": [],
   "source": []
  }
 ],
 "metadata": {
  "kernelspec": {
   "display_name": "Python 2",
   "language": "python",
   "name": "python2"
  },
  "language_info": {
   "codemirror_mode": {
    "name": "ipython",
    "version": 2
   },
   "file_extension": ".py",
   "mimetype": "text/x-python",
   "name": "python",
   "nbconvert_exporter": "python",
   "pygments_lexer": "ipython2",
   "version": "2.7.15"
  }
 },
 "nbformat": 4,
 "nbformat_minor": 2
}
