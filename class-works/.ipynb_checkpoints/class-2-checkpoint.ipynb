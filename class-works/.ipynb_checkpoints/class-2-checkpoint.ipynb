{
 "cells": [
  {
   "cell_type": "markdown",
   "metadata": {},
   "source": [
    "# 分治法"
   ]
  },
  {
   "cell_type": "markdown",
   "metadata": {},
   "source": [
    "## 解决问题的三种方法\n",
    "**1. 有粗到精的松弛技术**  \n",
    " *割圆法求解圆周率，使用正多边形不断逼近圆面积；迭代法解线性方程组*  \n",
    " ![xbxbxn](../data/pi.png \"xxx\")\n",
    "**2. 由难到易的校正技术**    \n",
    " *使用泰勒公式分解为多项式研究复杂函数*  \n",
    "**3. 有大到小的分治技术**    \n",
    " *将大规模的问题缩减规模到常数级别*"
   ]
  },
  {
   "cell_type": "markdown",
   "metadata": {},
   "source": [
    "## 分治法的原理\n",
    "|           算法案例 |      时间复杂度|\n",
    "|------------------|---------------|\n",
    "|二分检索            |       $$       |\n",
    "|归并排序            |              |\n",
    "|快速排序            |           |\n",
    "|矩阵相乘            |               |\n"
   ]
  },
  {
   "cell_type": "markdown",
   "metadata": {},
   "source": []
  }
 ],
 "metadata": {
  "kernelspec": {
   "display_name": "Python 2",
   "language": "python",
   "name": "python2"
  },
  "language_info": {
   "codemirror_mode": {
    "name": "ipython",
    "version": 2
   },
   "file_extension": ".py",
   "mimetype": "text/x-python",
   "name": "python",
   "nbconvert_exporter": "python",
   "pygments_lexer": "ipython2",
   "version": "2.7.14"
  }
 },
 "nbformat": 4,
 "nbformat_minor": 2
}
