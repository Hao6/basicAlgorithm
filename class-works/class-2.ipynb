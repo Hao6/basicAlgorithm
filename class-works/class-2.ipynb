{
 "cells": [
  {
   "cell_type": "markdown",
   "metadata": {},
   "source": [
    "# 分治法"
   ]
  },
  {
   "cell_type": "markdown",
   "metadata": {},
   "source": [
    "## 解决问题的三种方法\n",
    "**1. 有粗到精的松弛技术**  \n",
    " *割圆法求解圆周率，使用正多边形不断逼近圆面积；迭代法解线性方程组*  \n",
    " ![xbxbxn](../data/pi.png \"xxx\")\n",
    "**2. 由难到易的校正技术**    \n",
    " *使用泰勒公式分解为多项式研究复杂函数*  \n",
    "**3. 有大到小的分治技术**    \n",
    " *将大规模的问题缩减规模到常数级别*"
   ]
  },
  {
   "cell_type": "markdown",
   "metadata": {},
   "source": [
    "## 分治法的原理\n",
    "1. 该问题的规模缩小到一定的程度就可以容易地解决；\n",
    "2. 该问题可以分解为若干个规模较小的相同问题，即该问题具有最优子结构性质；\n",
    "3. 利用该问题分解出的子问题的解可以合并为该问题的解,包括存储结构上的合并，以及数值结果的运算合并；\n",
    "4. 该问题所分解出的各个子问题是相互独立的，即子问题之间不包含公共的子问题。  \n",
    "\n",
    "第一、二条要求是“分”的阶段，在大多数情况下，把问题规模缩小到一定程度就会得到非常简单的解；第三条是分治法能否得到问题最终解的关键，如果第三点不能得到满足，则前面的“分”就没有意义，这步实现的合并操作可以视为局部的最优解或者全局最优解的一部分；若第四步不能满足，则一般使用动态规划来解决问题，继续分治可能会使编程实现的难度陡增。"
   ]
  },
  {
   "cell_type": "markdown",
   "metadata": {},
   "source": [
    "## 算法案例\n",
    "|           算法案例 |      时间复杂度|\n",
    "|------------------|---------------|\n",
    "|二分检索            |$O_{(N\\lg(N))}$|\n",
    "|归并排序            |$O_{(N\\lg(N))}$  |\n",
    "|快速排序            |$O_{(N\\lg(N))}$   |\n",
    "|矩阵相乘            |$O_{(N^{2.807})}$  |"
   ]
  },
  {
   "cell_type": "code",
   "execution_count": 1,
   "metadata": {},
   "outputs": [],
   "source": [
    "import numpy as np"
   ]
  },
  {
   "cell_type": "markdown",
   "metadata": {},
   "source": [
    "### 二分检索 "
   ]
  },
  {
   "cell_type": "code",
   "execution_count": 2,
   "metadata": {},
   "outputs": [],
   "source": [
    "def binary_search(sorted_data, item):\n",
    "    \"\"\"\n",
    "    type sorted_data:[]\n",
    "    type item:data\n",
    "    rtype int\n",
    "    \"\"\"\n",
    "    lens = len(sorted_data)\n",
    "    if sorted_data == None or lens == 0:\n",
    "        return -2\n",
    "    lower , higher = 0 , lens-1\n",
    "    item_index = -1\n",
    "    while lower <= higher:\n",
    "        middle = lower+(higher - lower)/2\n",
    "        if sorted_data[middle] < item:\n",
    "            lower = middle+1\n",
    "            continue\n",
    "        elif sorted_data[middle] > item:\n",
    "            higher = middle-1\n",
    "            continue\n",
    "        else:\n",
    "            item_index = middle\n",
    "            break\n",
    "    return item_index"
   ]
  },
  {
   "cell_type": "markdown",
   "metadata": {},
   "source": [
    "### 归并排序"
   ]
  },
  {
   "cell_type": "code",
   "execution_count": 3,
   "metadata": {},
   "outputs": [],
   "source": [
    "def merge(unsorted_data,lower,middle,higher):\n",
    "    \"\"\"\n",
    "    type unsorted_data:list\n",
    "    type lower:int\n",
    "    type higher:int\n",
    "    type middle:int\n",
    "    \"\"\"\n",
    "    temp_list = []*(higher-lower+1)\n",
    "    i , j = lower , middle+1\n",
    "    while i <= middle and j <= higher:\n",
    "        if unsorted_data[i] < unsorted_data[j]:\n",
    "            temp_list.append(unsorted_data[i])\n",
    "            i +=1\n",
    "        else:\n",
    "            temp_list.append(unsorted_data[j])\n",
    "            j +=1\n",
    "    if i <= middle:\n",
    "        for ii in range(i,middle+1,1):\n",
    "            temp_list.append(unsorted_data[ii])\n",
    "    elif j <= higher:\n",
    "        for jj in  range(j,higher+1,1):\n",
    "            temp_list.append(unsorted_data[jj])\n",
    "    for item in temp_list:\n",
    "        unsorted_data[lower] = item\n",
    "        lower += 1\n",
    "def m_sort(unsorted_data,lower,higher):\n",
    "    \"\"\"\n",
    "    type unsorted_data:list\n",
    "    type lower:int\n",
    "    type higher:int\n",
    "    \"\"\"\n",
    "    if lower >= higher:\n",
    "        return\n",
    "    else:\n",
    "        middle = lower + (higher-lower)/2\n",
    "        m_sort(unsorted_data,lower,middle)\n",
    "        m_sort(unsorted_data,middle+1,higher)\n",
    "        merge(unsorted_data,lower,middle,higher)\n",
    "def merge_sort(unsorted_data):\n",
    "    \"\"\"\n",
    "    type s:list\n",
    "    rtype:list\n",
    "    \"\"\"\n",
    "    if unsorted_data == None:\n",
    "        return None\n",
    "    lens = len(unsorted_data)\n",
    "    if lens == 0 or lens == 1:\n",
    "        return unsorted_data\n",
    "    else:\n",
    "        m_sort(unsorted_data,0,lens-1)\n",
    "        return unsorted_data"
   ]
  },
  {
   "cell_type": "markdown",
   "metadata": {},
   "source": [
    "### 快速排序 "
   ]
  },
  {
   "cell_type": "code",
   "execution_count": 4,
   "metadata": {},
   "outputs": [],
   "source": [
    "def q_sort(unsorted_data,lower,higher):\n",
    "    \"\"\"\n",
    "    type unsorted_data:list\n",
    "    type lower:int\n",
    "    type higher:int\n",
    "    \"\"\"\n",
    "    if lower >= higher:\n",
    "        return\n",
    "    else:\n",
    "        cur_index = np.random.randint(lower,higher+1)\n",
    "        swap(unsorted_data,lower,cur_index)\n",
    "        \n",
    "        i , j = lower , higher\n",
    "        while i <= j:\n",
    "            while j >= lower:\n",
    "                if unsorted_data[j] > unsorted_data[lower]:\n",
    "                    j -= 1\n",
    "                else:\n",
    "                    break\n",
    "            while i <= higher:\n",
    "                if unsorted_data[i] <= unsorted_data[lower]:\n",
    "                    i += 1\n",
    "                else:\n",
    "                    break\n",
    "            if i < j:\n",
    "                swap(unsorted_data,i,j)\n",
    "                i += 1\n",
    "                j -= 1\n",
    "        swap(unsorted_data,j,lower)\n",
    "        q_sort(unsorted_data,lower,j-1)\n",
    "        q_sort(unsorted_data,j+1,higher)\n",
    "        \n",
    "def quick_sort(unsorted_data):\n",
    "    \"\"\"\n",
    "    type s:list\n",
    "    rtype:list\n",
    "    \"\"\"\n",
    "    if unsorted_data == None:\n",
    "        return None\n",
    "    lens = len(unsorted_data)\n",
    "    if lens == 0 or lens == 1:\n",
    "        return unsorted_data\n",
    "    else:\n",
    "        q_sort(unsorted_data,0,lens-1)\n",
    "        return unsorted_data"
   ]
  },
  {
   "cell_type": "markdown",
   "metadata": {},
   "source": [
    "### Strassen矩阵乘法 "
   ]
  },
  {
   "cell_type": "markdown",
   "metadata": {},
   "source": [
    "Strassen矩阵乘法能够减少“蛮力法”使用的乘法次数，当相乘的两个矩阵都是$2\\times2$的规模时，可以使用如下公式代替“蛮力法”，更大规模矩阵乘法的基础：\n",
    "$$\\begin{equation}\n",
    "\\begin{aligned}\n",
    "\\left[\n",
    "  \\begin{matrix}\n",
    "   c_{00} & c_{01}\\\\\n",
    "   c_{10} & c_{11} \n",
    "  \\end{matrix} \n",
    "  \\right] &=\n",
    "  \\left[\n",
    "  \\begin{matrix}\n",
    "   a_{00} & a_{01}\\\\\n",
    "   a_{10} & a_{11} \n",
    "  \\end{matrix} \n",
    "  \\right]\n",
    "  \\left[\n",
    "  \\begin{matrix}\n",
    "   b_{00} & b_{01}\\\\\n",
    "   b_{10} & b_{11} \n",
    "  \\end{matrix} \n",
    "  \\right] \\\\\n",
    "  &=\\left[\n",
    "  \\begin{matrix}\n",
    "  m_{1}+m_{4}-m_{5}+m_{7} & m_{3}+m_{5}\\\\\n",
    "  m_{2}+m_{4} & m_{1}+m_{3}-m_{2}+m_{6}\n",
    "  \\end{matrix}\n",
    "  \\right]\n",
    "  \\end{aligned}\n",
    "  \\end{equation}\n",
    "$$\n",
    "其中，\n",
    "$$\n",
    "\\begin{aligned}\n",
    "m_{1} &= (a_{00}+a_{11})\\times(b_{00}+b_{11})\\\\\n",
    "m_{2} &= (a_{10}+a_{11})\\times b_{00} \\\\\n",
    "m_{3} &= a_{00} \\times(b_{01}-b_{11})\\\\\n",
    "m_{4} &= a_{11}\\times(b_{10}-b_{00})\\\\\n",
    "m_{5} &= (a_{00}+a_{01})\\times b_{11} \\\\\n",
    "m_{6} &= (a_{10}-a_{00})\\times(b_{00}+b_{01})\\\\\n",
    "m_{7} &= (a_{01}-a_{11})\\times(b_{10}+b_{11})\n",
    "\\end{aligned}\n",
    "$$  \n",
    "\n",
    "为了确保最小规模的矩阵规模为$2\\times2$,可以补充全为0的行、列使矩阵的规模为$2^{n}\\times 2^{n}$,然后使用如下分块矩阵的方法递归减小矩阵规模为$2\\times2$  \n",
    "$$\\begin{equation}\n",
    "\\left[\n",
    "  \\begin{array}{c|c}\n",
    "   C_{00} & C_{01}\\\\ \\hline\n",
    "   C_{10} & C_{11} \n",
    "  \\end{array} \n",
    "  \\right] =\n",
    "  \\left[\n",
    "  \\begin{array}{c|c}\n",
    "   A_{00} & A_{01}\\\\ \\hline\n",
    "   A_{10} & A_{11} \n",
    "  \\end{array} \n",
    "  \\right]\n",
    "  \\left[\n",
    "  \\begin{array}{c|c}\n",
    "   B_{00} & B_{01}\\\\ \\hline\n",
    "   B_{10} & B_{11} \n",
    "  \\end{array}\n",
    "  \\right] \n",
    "  \\end{equation}\n",
    "$$  \n",
    "其中，矩阵$A、B、C$均是第一代矩阵，规模为$2^{n}\\times 2^{n}$，经过一次“分”，形成四个规模为$2^{n-1}\\times 2^{n-1}$的子问题，按照这种模式，最终只需要计算出最小规模的子问题$2\\times 2$即可解决这个问题"
   ]
  },
  {
   "cell_type": "code",
   "execution_count": 5,
   "metadata": {},
   "outputs": [],
   "source": [
    "def strassen_matrix(matrix_a, matrix_b, n):\n",
    "    \"\"\"\n",
    "    type matrix_a:([[int]])\n",
    "    type matrix_b:([[int]])\n",
    "    type        n:int\n",
    "    rtype        :([[int]])\n",
    "    \"\"\"\n",
    "    if n == 2:\n",
    "        m1 = (matrix_a[0,0]+matrix_a[1,1])*(matrix_b[0,0]+matrix_b[1,1])\n",
    "        m2 = (matrix_a[1,0]+matrix_a[1,1])*matrix_b[0,0]\n",
    "        m3 = matrix_a[0,0]*(matrix_b[0,1]-matrix_b[1,1])\n",
    "        m4 = matrix_a[1,1]*(matrix_b[1,0]-matrix_b[0,0])\n",
    "        m5 = (matrix_a[0,0]+matrix_a[0,1])*matrix_b[1,1]\n",
    "        m6 = (matrix_a[1,0]-matrix_a[0,0])*(matrix_b[0,0]+matrix_b[0,1])\n",
    "        m7 = (matrix_a[0,1]-matrix_a[1,1])*(matrix_b[1,0]+matrix_b[1,1])\n",
    "        return np.array([[m1+m4-m5+m7,m3+m5],[m2+m4,m1+m3-m2+m6]])\n",
    "    else:\n",
    "        half_n = n/2\n",
    "        \n",
    "        # 传统的分块矩阵乘法\n",
    "        \"\"\"\n",
    "        # a[0][0]*b[0][0] + a[0][1]*b[1][0]\n",
    "        lu = strassen_matrix(matrix_a[:half_n,:half_n],matrix_b[:half_n,:half_n],half_n)+\\\n",
    "        strassen_matrix(matrix_a[:half_n,half_n:], matrix_b[half_n:,:half_n],half_n) # 左上角\n",
    "        \n",
    "        # a[0][0]*b[0][1] + a[0][1]*b[1][1]\n",
    "        ru = strassen_matrix(matrix_a[:half_n,:half_n],matrix_b[:half_n,half_n:],half_n)+\\\n",
    "        strassen_matrix(matrix_a[:half_n,half_n:],matrix_b[half_n:,half_n:],half_n)       # 右上角\n",
    "        \n",
    "        # a[1][0]*b[0][0] + a[1][1]*b[1][0]\n",
    "        lb = strassen_matrix(matrix_a[half_n:,:half_n],matrix_b[:half_n,:half_n],half_n)+\\\n",
    "        strassen_matrix(matrix_a[half_n:,half_n:],matrix_b[half_n:,:half_n],half_n)       # 左下角\n",
    "        \n",
    "        # a[1][0]*b[0][1] + a[1][1]*b[1][1]\n",
    "        rb = strassen_matrix(matrix_a[half_n:,:half_n],matrix_b[:half_n,half_n:],half_n)+\\\n",
    "        strassen_matrix(matrix_a[half_n:,half_n:],matrix_b[half_n:,half_n:],half_n)       # 右下角\n",
    "        \n",
    "        left = np.concatenate((lu,lb),axis=0)\n",
    "        right = np.concatenate((ru,rb),axis=0)\n",
    "        \"\"\"\n",
    "        # strassen 算法\n",
    "        m1 = strassen_matrix(matrix_a[:half_n,:half_n]+matrix_a[half_n:,half_n:], \\\n",
    "                             matrix_b[:half_n,:half_n]+matrix_b[half_n:,half_n:], half_n)\n",
    "        m2 = strassen_matrix(matrix_a[half_n:,:half_n]+matrix_a[half_n:,half_n:],matrix_b[:half_n,:half_n],half_n)\n",
    "        m3 = strassen_matrix(matrix_a[:half_n,:half_n],matrix_b[:half_n,half_n:]-matrix_b[half_n:,half_n:], half_n)\n",
    "        m4 = strassen_matrix(matrix_a[half_n:,half_n:],matrix_b[half_n:,:half_n]-matrix_b[:half_n,:half_n], half_n)\n",
    "        m5 = strassen_matrix(matrix_a[:half_n,:half_n]+matrix_a[:half_n,half_n:],matrix_b[half_n:,half_n:],half_n)\n",
    "        m6 = strassen_matrix(matrix_a[half_n:,:half_n]-matrix_a[:half_n,:half_n], \\\n",
    "                             matrix_b[:half_n,:half_n]+matrix_b[:half_n,half_n:], half_n)\n",
    "        m7 = strassen_matrix(matrix_a[:half_n,half_n:]-matrix_a[half_n:,half_n:], \\\n",
    "                             matrix_b[half_n:,:half_n]+matrix_b[half_n:,half_n:], half_n)\n",
    "        left  = np.concatenate((m1+m4-m5+m7,m2+m4),axis=0)\n",
    "        right = np.concatenate((m3+m5,m1+m3-m2+m6),axis=0)\n",
    "        \n",
    "        return np.concatenate((left,right),axis=1)"
   ]
  },
  {
   "cell_type": "markdown",
   "metadata": {},
   "source": [
    "#### 测试 strassen 矩阵乘法 "
   ]
  },
  {
   "cell_type": "code",
   "execution_count": 6,
   "metadata": {},
   "outputs": [],
   "source": [
    "n = 32\n",
    "m_a = np.random.randint(low = -100, high = 100, size=(n,n))\n",
    "m_b = np.random.randint(low = -100, high = 100, size=(n,n))"
   ]
  },
  {
   "cell_type": "code",
   "execution_count": 7,
   "metadata": {},
   "outputs": [
    {
     "name": "stdout",
     "output_type": "stream",
     "text": [
      "CPU times: user 9 µs, sys: 0 ns, total: 9 µs\n",
      "Wall time: 17.2 µs\n"
     ]
    },
    {
     "data": {
      "text/plain": [
       "array([[  8116,  13870, -46412, ..., -24571, -11941, -11526],\n",
       "       [-20111,  -3274,  13696, ..., -16659,  27736,  24489],\n",
       "       [ -8707,  10345,  28936, ...,  12737,   9160,  22919],\n",
       "       ...,\n",
       "       [  4812,   9317,   8430, ...,   7917,  -7086,  -4635],\n",
       "       [  8387,  -2946,  18165, ...,   1637,  20055, -13284],\n",
       "       [  1833,  35197, -37894, ..., -13250,   5265,   -514]])"
      ]
     },
     "execution_count": 7,
     "metadata": {},
     "output_type": "execute_result"
    }
   ],
   "source": [
    "%time\n",
    "np.dot(m_a, m_b)"
   ]
  },
  {
   "cell_type": "code",
   "execution_count": 8,
   "metadata": {},
   "outputs": [
    {
     "name": "stdout",
     "output_type": "stream",
     "text": [
      "CPU times: user 15 µs, sys: 4 µs, total: 19 µs\n",
      "Wall time: 37.9 µs\n"
     ]
    },
    {
     "data": {
      "text/plain": [
       "array([[  8116,  13870, -46412, ..., -24571, -11941, -11526],\n",
       "       [-20111,  -3274,  13696, ..., -16659,  27736,  24489],\n",
       "       [ -8707,  10345,  28936, ...,  12737,   9160,  22919],\n",
       "       ...,\n",
       "       [  4812,   9317,   8430, ...,   7917,  -7086,  -4635],\n",
       "       [  8387,  -2946,  18165, ...,   1637,  20055, -13284],\n",
       "       [  1833,  35197, -37894, ..., -13250,   5265,   -514]])"
      ]
     },
     "execution_count": 8,
     "metadata": {},
     "output_type": "execute_result"
    }
   ],
   "source": [
    "%time\n",
    "strassen_matrix(m_a, m_b, n)"
   ]
  },
  {
   "cell_type": "markdown",
   "metadata": {},
   "source": [
    "#### 时间复杂度分析 "
   ]
  },
  {
   "cell_type": "markdown",
   "metadata": {},
   "source": [
    "根据上述的Strassen 算法的实现，可以假设 $M_{n}$ 是执行两个 $n$ 阶矩阵相乘时的数值乘法次数，则相当于通过递归调用7个 $n/2$ 阶的矩阵相乘(递归部分m1-m7)，所以可得\n",
    "$$M_{n}= \n",
    "\\begin{cases}\n",
    "7M_{n/2} & \\text{n>1} \\\\\n",
    "1        & \\text{n=1}\n",
    "\\end{cases}$$\n",
    "且由Strassen 算法得 $ n=2^{k} $,所以\n",
    "$$\\begin{aligned}\n",
    "M_{2^{k}} &= 7M_{2^{k-1}} \\\\\n",
    "&= 7^{2}M_{2^{k-2}}\\\\\n",
    "&= \\dots \\\\\n",
    "&= 7^{k}M_{2^{k-k}} \\\\\n",
    "&= 7^{k}\\\\\n",
    "&= 7^{\\lg{n}}\\\\\n",
    "&= n^{\\lg{7}}\\\\\n",
    "&\\approx n^{2.807}\n",
    "\\end{aligned}$$"
   ]
  },
  {
   "cell_type": "code",
   "execution_count": null,
   "metadata": {},
   "outputs": [],
   "source": []
  }
 ],
 "metadata": {
  "kernelspec": {
   "display_name": "Python 2",
   "language": "python",
   "name": "python2"
  },
  "language_info": {
   "codemirror_mode": {
    "name": "ipython",
    "version": 2
   },
   "file_extension": ".py",
   "mimetype": "text/x-python",
   "name": "python",
   "nbconvert_exporter": "python",
   "pygments_lexer": "ipython2",
   "version": "2.7.14"
  }
 },
 "nbformat": 4,
 "nbformat_minor": 2
}
