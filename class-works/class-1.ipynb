{
 "cells": [
  {
   "cell_type": "markdown",
   "metadata": {},
   "source": [
    "#  算法设计与分析"
   ]
  },
  {
   "cell_type": "markdown",
   "metadata": {},
   "source": [
    "## 算法  \n",
    "- 计算指计算机物理状态的改变，而算法即是**计算的规则**"
   ]
  },
  {
   "cell_type": "markdown",
   "metadata": {},
   "source": [
    "### 算法的特性  \n",
    "- *确定性(无二义性)*  \n",
    "算法的每一个步骤都必须精确定义，每种情况需要执行的操作必须给出严格、无歧义的说明。\n",
    "- *可行性(有效性)*  \n",
    "原则上，人们可以通过纸和笔在有限的时间内准确地执行一定规模的算法。\n",
    "- *有穷性*  \n",
    "算法必须在执行有限步骤后终止。\n",
    "- *输入*  \n",
    "具有0个或者多个输入\n",
    "- *输出*  \n",
    "1个或者多个输出，输出指与输入有着某种关系的量，并非狭义的函数返回值。  "
   ]
  },
  {
   "cell_type": "markdown",
   "metadata": {},
   "source": [
    "#### 算法示例——*欧几里得算法*\n",
    "- 给定两个正整数m与n，求两者的最大公约数r，既能够同时整除m、n的最大正整数  "
   ]
  },
  {
   "cell_type": "markdown",
   "metadata": {},
   "source": [
    "1. 用n除m，令余数为r；\n",
    "2. 如果余数r等于0，则算法终止，输出n作为答案；\n",
    "3. 令$m \\xleftarrow{} n$,$n \\xleftarrow{} r$,返回步骤1。"
   ]
  },
  {
   "cell_type": "markdown",
   "metadata": {},
   "source": [
    "在上述使用自然语言描述的算法步骤中，能够满足算法的五个特性：  \n",
    "1. 确定性，上述三个步骤的操作均可精确的执行，例如整除、判断相等、赋值操作；\n",
    "2. 可行性，算法涉及的整除、判断相等、赋值操作均可通过纸笔人力实现；\n",
    "3. 有穷性，在执行步骤1之后，$r < n$，如果$r\\neq0$，则下一次执行步骤1之后，n将减小，而一个递减的正整数序列最终必将终止；\n",
    "4. 输入，正整数m与n；\n",
    "5. 输出，正整数r。"
   ]
  },
  {
   "cell_type": "code",
   "execution_count": 37,
   "metadata": {},
   "outputs": [],
   "source": [
    "def euclid(m,n):\n",
    "    \"\"\"\n",
    "    type m:int\n",
    "    type n:int\n",
    "    rtype:int\n",
    "    \"\"\"\n",
    "    if m <=0 or n <= 0:\n",
    "        return None\n",
    "    else:\n",
    "        r = m % n\n",
    "        while r != 0:\n",
    "            m = n\n",
    "            n = r\n",
    "            r = m % n\n",
    "        return n"
   ]
  },
  {
   "cell_type": "markdown",
   "metadata": {},
   "source": [
    "#### 测试欧几里得算法 "
   ]
  },
  {
   "cell_type": "code",
   "execution_count": 38,
   "metadata": {},
   "outputs": [
    {
     "data": {
      "text/plain": [
       "6"
      ]
     },
     "execution_count": 38,
     "metadata": {},
     "output_type": "execute_result"
    }
   ],
   "source": [
    "euclid(18,24)"
   ]
  },
  {
   "cell_type": "markdown",
   "metadata": {},
   "source": [
    "### 算法时间复杂度分析  "
   ]
  },
  {
   "cell_type": "code",
   "execution_count": 39,
   "metadata": {},
   "outputs": [],
   "source": [
    "import numpy as np"
   ]
  },
  {
   "cell_type": "markdown",
   "metadata": {},
   "source": [
    "#### 非递归问题——*冒泡排序*"
   ]
  },
  {
   "cell_type": "code",
   "execution_count": 40,
   "metadata": {},
   "outputs": [],
   "source": [
    "def swap(data,i,j):\n",
    "    data[i] , data[j] = data[j] , data[i]"
   ]
  },
  {
   "cell_type": "code",
   "execution_count": 41,
   "metadata": {},
   "outputs": [],
   "source": [
    "def bubble_sort(unsorted_data):\n",
    "    \"\"\"\n",
    "    type unsorted_data:[int]\n",
    "    rtype:[int]\n",
    "    \"\"\"\n",
    "    if unsorted_data is None:\n",
    "        return None\n",
    "    lens = len(unsorted_data)\n",
    "    for i in range(lens-1):\n",
    "        for j in range(lens-i-1):\n",
    "            if unsorted_data[j] > unsorted_data[j+1]:\n",
    "                swap(unsorted_data,j,j+1)\n",
    "    return unsorted_data"
   ]
  },
  {
   "cell_type": "markdown",
   "metadata": {},
   "source": [
    "#### 测试冒泡排序"
   ]
  },
  {
   "cell_type": "code",
   "execution_count": 42,
   "metadata": {},
   "outputs": [
    {
     "name": "stdout",
     "output_type": "stream",
     "text": [
      "10000\n"
     ]
    }
   ],
   "source": [
    "test_data = np.random.randint(-10000,10000,10000).tolist()\n",
    "print len(test_data)\n",
    "sorted_data = bubble_sort(test_data)\n",
    "for i in range(len(test_data)-1):\n",
    "    if sorted_data[i] > sorted_data[i+1]:\n",
    "        print False\n",
    "        break"
   ]
  },
  {
   "cell_type": "markdown",
   "metadata": {},
   "source": [
    "##### 时间复杂度分析\n",
    "主要的时间来源于两层循环部分，外层循环的次数为 $n-1$ ,内层的循环次数为\n",
    "$\\frac{n\\times(n-1)}{2}$,则总体的时间复杂度为 $O_{(n^2)}$"
   ]
  },
  {
   "cell_type": "markdown",
   "metadata": {},
   "source": [
    "#### 递归问题——*汉诺塔问题*"
   ]
  },
  {
   "cell_type": "code",
   "execution_count": 43,
   "metadata": {},
   "outputs": [],
   "source": [
    "def hanno_tower(pillar_1, pillar_2, pillar_3, n):\n",
    "    \"\"\"\n",
    "    type pillar_1:str\n",
    "    type pillar_2:str\n",
    "    type pillar_3:str\n",
    "    type        n:int\n",
    "    \"\"\"\n",
    "    if n == 1:\n",
    "        print \"move the \"+str(n) +\"th dish \" + \"from \" + pillar_1 + \" to \" + pillar_3\n",
    "        return\n",
    "    else:\n",
    "        # step 1: the most top n-1's dishes were moved from pillar_1 to pillar_2\n",
    "        hanno_tower(pillar_1, pillar_3, pillar_2, n-1)\n",
    "        # step 2: the most bottom 1 dish were moved from pillar_1 to pillar_3\n",
    "        print \"move the \"+str(n) +\"th dish \" + \"from \" + pillar_1 + \" to \" + pillar_3\n",
    "        # STEP 3: the most top n-1's dishes were moved from pillar_2 to pillar_3\n",
    "        hanno_tower(pillar_2, pillar_1, pillar_3, n-1)"
   ]
  },
  {
   "cell_type": "markdown",
   "metadata": {},
   "source": [
    "#### 测试汉诺塔问题解法 "
   ]
  },
  {
   "cell_type": "code",
   "execution_count": 44,
   "metadata": {},
   "outputs": [
    {
     "name": "stdout",
     "output_type": "stream",
     "text": [
      "move the 1th dish from A to B\n",
      "move the 2th dish from A to C\n",
      "move the 1th dish from B to C\n",
      "move the 3th dish from A to B\n",
      "move the 1th dish from C to A\n",
      "move the 2th dish from C to B\n",
      "move the 1th dish from A to B\n",
      "move the 4th dish from A to C\n",
      "move the 1th dish from B to C\n",
      "move the 2th dish from B to A\n",
      "move the 1th dish from C to A\n",
      "move the 3th dish from B to C\n",
      "move the 1th dish from A to B\n",
      "move the 2th dish from A to C\n",
      "move the 1th dish from B to C\n"
     ]
    }
   ],
   "source": [
    "hanno_tower('A','B','C',4)"
   ]
  },
  {
   "cell_type": "markdown",
   "metadata": {},
   "source": [
    "##### 时间复杂度分析\n",
    "假设当问题规模，即盘子个数为$n$时，时间复杂度可表示为$T_{n}$,且由源代码分析可得\n",
    "$$T_{n}=\\left\\{\n",
    "\\begin{aligned}\n",
    "2T_{n-1}+1 & & n>1\\\\\n",
    "1        & & n=1\\\\ \n",
    "\\end{aligned}\n",
    "\\right.$$\n",
    "将上述递推关系展开\n",
    "$$T_{n}=2T_{n-1}+1\\\\\n",
    "T_{n-1}=2T_{n-2}+1\\\\\n",
    "\\vdots\\\\\n",
    "T_{2}=2T_{1}+1\\\\\n",
    "T{1}=1\n",
    "$$\n",
    "得到\n",
    "$$T_{n}=2^{n-1}T{1}+2^{n-1}-1$$\n",
    "带入$T_{1}=1$\n",
    "$$T_{n}=2^{n}-1$$\n",
    "去掉常数项\n",
    "$$T_{n}=2^{n}$$"
   ]
  },
  {
   "cell_type": "code",
   "execution_count": null,
   "metadata": {},
   "outputs": [],
   "source": []
  }
 ],
 "metadata": {
  "kernelspec": {
   "display_name": "Python 2",
   "language": "python",
   "name": "python2"
  },
  "language_info": {
   "codemirror_mode": {
    "name": "ipython",
    "version": 2
   },
   "file_extension": ".py",
   "mimetype": "text/x-python",
   "name": "python",
   "nbconvert_exporter": "python",
   "pygments_lexer": "ipython2",
   "version": "2.7.15"
  }
 },
 "nbformat": 4,
 "nbformat_minor": 2
}
